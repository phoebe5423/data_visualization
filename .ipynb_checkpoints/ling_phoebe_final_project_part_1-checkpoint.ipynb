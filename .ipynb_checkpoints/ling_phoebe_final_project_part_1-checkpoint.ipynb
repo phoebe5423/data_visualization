{
 "cells": [
  {
   "cell_type": "markdown",
   "id": "01df9a11",
   "metadata": {},
   "source": [
    "# Final Project, Part 1"
   ]
  },
  {
   "cell_type": "markdown",
   "id": "fd8ee775",
   "metadata": {},
   "source": [
    "Group members: Phoebe Ling, River Liu, Boyu Zhang, and Shaojun Zheng"
   ]
  },
  {
   "cell_type": "markdown",
   "id": "70b9626b",
   "metadata": {},
   "source": [
    "## Dataset Information"
   ]
  },
  {
   "cell_type": "markdown",
   "id": "cfaab6ec",
   "metadata": {},
   "source": [
    "***What is the \"name\" of the dataset?***  \n",
    "\"raw titles\" data in \"Netflix Movies and Series\"  \n",
    "\n",
    "***Where did you obtain it?***  \n",
    "We obtain it from data.world, but its source is Kaggle.  \n",
    "\n",
    "***Where can we obtain it? (i.e., URL)***  \n",
    "https://data.world/gonzandrobles/netflix-movies-and-series/workspace/file?filename=raw_titles.csv   \n",
    "\n",
    "**What is the license of the dataset?***  \n",
    "The license is Creative Commons Zero (Public Domain). Therefore, we can reuse, modify, and refine it without limitation. This dataset can also be used in a commercial situation.  \n",
    "\n",
    "***How big is it in file size and in items?***  \n",
    "The whole dataset is 4.21MB, and we can directly use the URL to get the data without downloading the file and uploading it to GitHub."
   ]
  },
  {
   "cell_type": "markdown",
   "id": "ee67d5f0",
   "metadata": {},
   "source": [
    "We decide to use \"raw titles\" data in \"Netflix Movies and Series\" dataset. https://data.world/gonzandrobles/netflix-movies-and-series/workspace/file?filename=raw_titles.csv"
   ]
  },
  {
   "cell_type": "markdown",
   "id": "1d4f0bd9",
   "metadata": {},
   "source": [
    "## Explore the dataset and remove the null data"
   ]
  },
  {
   "cell_type": "code",
   "execution_count": 1,
   "id": "71906064",
   "metadata": {},
   "outputs": [],
   "source": [
    "import pandas as pd\n",
    "import numpy as np"
   ]
  },
  {
   "cell_type": "code",
   "execution_count": 2,
   "id": "451e4088",
   "metadata": {},
   "outputs": [],
   "source": [
    "df = pd.read_csv('https://query.data.world/s/7cdylzj6g2k4a7bahcloent6dhb3mf')"
   ]
  },
  {
   "cell_type": "code",
   "execution_count": 3,
   "id": "53178b8a",
   "metadata": {},
   "outputs": [
    {
     "data": {
      "text/html": [
       "<div>\n",
       "<style scoped>\n",
       "    .dataframe tbody tr th:only-of-type {\n",
       "        vertical-align: middle;\n",
       "    }\n",
       "\n",
       "    .dataframe tbody tr th {\n",
       "        vertical-align: top;\n",
       "    }\n",
       "\n",
       "    .dataframe thead th {\n",
       "        text-align: right;\n",
       "    }\n",
       "</style>\n",
       "<table border=\"1\" class=\"dataframe\">\n",
       "  <thead>\n",
       "    <tr style=\"text-align: right;\">\n",
       "      <th></th>\n",
       "      <th>id</th>\n",
       "      <th>title</th>\n",
       "      <th>type</th>\n",
       "      <th>release_year</th>\n",
       "      <th>age_certification</th>\n",
       "      <th>runtime</th>\n",
       "      <th>genres</th>\n",
       "      <th>production_countries</th>\n",
       "      <th>seasons</th>\n",
       "      <th>imdb_id</th>\n",
       "      <th>imdb_score</th>\n",
       "      <th>imdb_votes</th>\n",
       "    </tr>\n",
       "  </thead>\n",
       "  <tbody>\n",
       "    <tr>\n",
       "      <th>0</th>\n",
       "      <td>ts300399</td>\n",
       "      <td>Five Came Back: The Reference Films</td>\n",
       "      <td>SHOW</td>\n",
       "      <td>1945</td>\n",
       "      <td>TV-MA</td>\n",
       "      <td>48</td>\n",
       "      <td>['documentation']</td>\n",
       "      <td>['US']</td>\n",
       "      <td>1.0</td>\n",
       "      <td>NaN</td>\n",
       "      <td>NaN</td>\n",
       "      <td>NaN</td>\n",
       "    </tr>\n",
       "    <tr>\n",
       "      <th>1</th>\n",
       "      <td>tm84618</td>\n",
       "      <td>Taxi Driver</td>\n",
       "      <td>MOVIE</td>\n",
       "      <td>1976</td>\n",
       "      <td>R</td>\n",
       "      <td>113</td>\n",
       "      <td>['crime', 'drama']</td>\n",
       "      <td>['US']</td>\n",
       "      <td>NaN</td>\n",
       "      <td>tt0075314</td>\n",
       "      <td>8.3</td>\n",
       "      <td>795222.0</td>\n",
       "    </tr>\n",
       "    <tr>\n",
       "      <th>2</th>\n",
       "      <td>tm127384</td>\n",
       "      <td>Monty Python and the Holy Grail</td>\n",
       "      <td>MOVIE</td>\n",
       "      <td>1975</td>\n",
       "      <td>PG</td>\n",
       "      <td>91</td>\n",
       "      <td>['comedy', 'fantasy']</td>\n",
       "      <td>['GB']</td>\n",
       "      <td>NaN</td>\n",
       "      <td>tt0071853</td>\n",
       "      <td>8.2</td>\n",
       "      <td>530877.0</td>\n",
       "    </tr>\n",
       "    <tr>\n",
       "      <th>3</th>\n",
       "      <td>tm70993</td>\n",
       "      <td>Life of Brian</td>\n",
       "      <td>MOVIE</td>\n",
       "      <td>1979</td>\n",
       "      <td>R</td>\n",
       "      <td>94</td>\n",
       "      <td>['comedy']</td>\n",
       "      <td>['GB']</td>\n",
       "      <td>NaN</td>\n",
       "      <td>tt0079470</td>\n",
       "      <td>8.0</td>\n",
       "      <td>392419.0</td>\n",
       "    </tr>\n",
       "    <tr>\n",
       "      <th>4</th>\n",
       "      <td>tm190788</td>\n",
       "      <td>The Exorcist</td>\n",
       "      <td>MOVIE</td>\n",
       "      <td>1973</td>\n",
       "      <td>R</td>\n",
       "      <td>133</td>\n",
       "      <td>['horror']</td>\n",
       "      <td>['US']</td>\n",
       "      <td>NaN</td>\n",
       "      <td>tt0070047</td>\n",
       "      <td>8.1</td>\n",
       "      <td>391942.0</td>\n",
       "    </tr>\n",
       "    <tr>\n",
       "      <th>...</th>\n",
       "      <td>...</td>\n",
       "      <td>...</td>\n",
       "      <td>...</td>\n",
       "      <td>...</td>\n",
       "      <td>...</td>\n",
       "      <td>...</td>\n",
       "      <td>...</td>\n",
       "      <td>...</td>\n",
       "      <td>...</td>\n",
       "      <td>...</td>\n",
       "      <td>...</td>\n",
       "      <td>...</td>\n",
       "    </tr>\n",
       "    <tr>\n",
       "      <th>5801</th>\n",
       "      <td>tm1014599</td>\n",
       "      <td>Fine Wine</td>\n",
       "      <td>MOVIE</td>\n",
       "      <td>2021</td>\n",
       "      <td>NaN</td>\n",
       "      <td>100</td>\n",
       "      <td>['romance', 'drama']</td>\n",
       "      <td>['NG']</td>\n",
       "      <td>NaN</td>\n",
       "      <td>tt13857480</td>\n",
       "      <td>6.9</td>\n",
       "      <td>39.0</td>\n",
       "    </tr>\n",
       "    <tr>\n",
       "      <th>5802</th>\n",
       "      <td>tm1108171</td>\n",
       "      <td>Edis Starlight</td>\n",
       "      <td>MOVIE</td>\n",
       "      <td>2021</td>\n",
       "      <td>NaN</td>\n",
       "      <td>74</td>\n",
       "      <td>['music', 'documentation']</td>\n",
       "      <td>[]</td>\n",
       "      <td>NaN</td>\n",
       "      <td>NaN</td>\n",
       "      <td>NaN</td>\n",
       "      <td>NaN</td>\n",
       "    </tr>\n",
       "    <tr>\n",
       "      <th>5803</th>\n",
       "      <td>tm1045018</td>\n",
       "      <td>Clash</td>\n",
       "      <td>MOVIE</td>\n",
       "      <td>2021</td>\n",
       "      <td>NaN</td>\n",
       "      <td>88</td>\n",
       "      <td>['family', 'drama']</td>\n",
       "      <td>['NG', 'CA']</td>\n",
       "      <td>NaN</td>\n",
       "      <td>tt14620732</td>\n",
       "      <td>6.5</td>\n",
       "      <td>32.0</td>\n",
       "    </tr>\n",
       "    <tr>\n",
       "      <th>5804</th>\n",
       "      <td>tm1098060</td>\n",
       "      <td>Shadow Parties</td>\n",
       "      <td>MOVIE</td>\n",
       "      <td>2021</td>\n",
       "      <td>NaN</td>\n",
       "      <td>116</td>\n",
       "      <td>['action', 'thriller']</td>\n",
       "      <td>[]</td>\n",
       "      <td>NaN</td>\n",
       "      <td>tt10168094</td>\n",
       "      <td>6.2</td>\n",
       "      <td>9.0</td>\n",
       "    </tr>\n",
       "    <tr>\n",
       "      <th>5805</th>\n",
       "      <td>ts271048</td>\n",
       "      <td>Mighty Little Bheem: Kite Festival</td>\n",
       "      <td>SHOW</td>\n",
       "      <td>2021</td>\n",
       "      <td>NaN</td>\n",
       "      <td>0</td>\n",
       "      <td>['family', 'comedy', 'animation']</td>\n",
       "      <td>[]</td>\n",
       "      <td>1.0</td>\n",
       "      <td>tt13711094</td>\n",
       "      <td>8.8</td>\n",
       "      <td>16.0</td>\n",
       "    </tr>\n",
       "  </tbody>\n",
       "</table>\n",
       "<p>5806 rows × 12 columns</p>\n",
       "</div>"
      ],
      "text/plain": [
       "             id                                title   type  release_year  \\\n",
       "0      ts300399  Five Came Back: The Reference Films   SHOW          1945   \n",
       "1       tm84618                          Taxi Driver  MOVIE          1976   \n",
       "2      tm127384      Monty Python and the Holy Grail  MOVIE          1975   \n",
       "3       tm70993                        Life of Brian  MOVIE          1979   \n",
       "4      tm190788                         The Exorcist  MOVIE          1973   \n",
       "...         ...                                  ...    ...           ...   \n",
       "5801  tm1014599                            Fine Wine  MOVIE          2021   \n",
       "5802  tm1108171                       Edis Starlight  MOVIE          2021   \n",
       "5803  tm1045018                                Clash  MOVIE          2021   \n",
       "5804  tm1098060                       Shadow Parties  MOVIE          2021   \n",
       "5805   ts271048   Mighty Little Bheem: Kite Festival   SHOW          2021   \n",
       "\n",
       "     age_certification  runtime                             genres  \\\n",
       "0                TV-MA       48                  ['documentation']   \n",
       "1                    R      113                 ['crime', 'drama']   \n",
       "2                   PG       91              ['comedy', 'fantasy']   \n",
       "3                    R       94                         ['comedy']   \n",
       "4                    R      133                         ['horror']   \n",
       "...                ...      ...                                ...   \n",
       "5801               NaN      100               ['romance', 'drama']   \n",
       "5802               NaN       74         ['music', 'documentation']   \n",
       "5803               NaN       88                ['family', 'drama']   \n",
       "5804               NaN      116             ['action', 'thriller']   \n",
       "5805               NaN        0  ['family', 'comedy', 'animation']   \n",
       "\n",
       "     production_countries  seasons     imdb_id  imdb_score  imdb_votes  \n",
       "0                  ['US']      1.0         NaN         NaN         NaN  \n",
       "1                  ['US']      NaN   tt0075314         8.3    795222.0  \n",
       "2                  ['GB']      NaN   tt0071853         8.2    530877.0  \n",
       "3                  ['GB']      NaN   tt0079470         8.0    392419.0  \n",
       "4                  ['US']      NaN   tt0070047         8.1    391942.0  \n",
       "...                   ...      ...         ...         ...         ...  \n",
       "5801               ['NG']      NaN  tt13857480         6.9        39.0  \n",
       "5802                   []      NaN         NaN         NaN         NaN  \n",
       "5803         ['NG', 'CA']      NaN  tt14620732         6.5        32.0  \n",
       "5804                   []      NaN  tt10168094         6.2         9.0  \n",
       "5805                   []      1.0  tt13711094         8.8        16.0  \n",
       "\n",
       "[5806 rows x 12 columns]"
      ]
     },
     "execution_count": 3,
     "metadata": {},
     "output_type": "execute_result"
    }
   ],
   "source": [
    "df"
   ]
  },
  {
   "cell_type": "code",
   "execution_count": 4,
   "id": "9a44c9fe",
   "metadata": {},
   "outputs": [
    {
     "data": {
      "text/plain": [
       "id                      5806\n",
       "title                   5805\n",
       "type                    5806\n",
       "release_year            5806\n",
       "age_certification       3196\n",
       "runtime                 5806\n",
       "genres                  5806\n",
       "production_countries    5806\n",
       "seasons                 2047\n",
       "imdb_id                 5362\n",
       "imdb_score              5283\n",
       "imdb_votes              5267\n",
       "dtype: int64"
      ]
     },
     "execution_count": 4,
     "metadata": {},
     "output_type": "execute_result"
    }
   ],
   "source": [
    "df.count()"
   ]
  },
  {
   "cell_type": "code",
   "execution_count": 5,
   "id": "454396f2",
   "metadata": {
    "scrolled": true
   },
   "outputs": [
    {
     "data": {
      "text/plain": [
       "id                         0\n",
       "title                      1\n",
       "type                       0\n",
       "release_year               0\n",
       "age_certification       2610\n",
       "runtime                    0\n",
       "genres                     0\n",
       "production_countries       0\n",
       "seasons                 3759\n",
       "imdb_id                  444\n",
       "imdb_score               523\n",
       "imdb_votes               539\n",
       "dtype: int64"
      ]
     },
     "execution_count": 5,
     "metadata": {},
     "output_type": "execute_result"
    }
   ],
   "source": [
    "df.isnull().sum()     # check the null value in each column"
   ]
  },
  {
   "cell_type": "code",
   "execution_count": 6,
   "id": "b541d570",
   "metadata": {},
   "outputs": [],
   "source": [
    "# drop the raws which \"title\",'age_certification', or 'imdb_score' columns is null.\n",
    "no_null = df.dropna(subset=['title', 'age_certification', 'imdb_score'])    "
   ]
  },
  {
   "cell_type": "code",
   "execution_count": 7,
   "id": "60acb854",
   "metadata": {},
   "outputs": [
    {
     "data": {
      "text/plain": [
       "id                         0\n",
       "title                      0\n",
       "type                       0\n",
       "release_year               0\n",
       "age_certification          0\n",
       "runtime                    0\n",
       "genres                     0\n",
       "production_countries       0\n",
       "seasons                 1328\n",
       "imdb_id                    0\n",
       "imdb_score                 0\n",
       "imdb_votes                 9\n",
       "dtype: int64"
      ]
     },
     "execution_count": 7,
     "metadata": {},
     "output_type": "execute_result"
    }
   ],
   "source": [
    "no_null.isnull().sum()"
   ]
  },
  {
   "cell_type": "code",
   "execution_count": 8,
   "id": "1a85bcf0",
   "metadata": {
    "scrolled": true
   },
   "outputs": [
    {
     "data": {
      "text/plain": [
       "id                      2998\n",
       "title                   2998\n",
       "type                    2998\n",
       "release_year            2998\n",
       "age_certification       2998\n",
       "runtime                 2998\n",
       "genres                  2998\n",
       "production_countries    2998\n",
       "seasons                 1670\n",
       "imdb_id                 2998\n",
       "imdb_score              2998\n",
       "imdb_votes              2989\n",
       "dtype: int64"
      ]
     },
     "execution_count": 8,
     "metadata": {},
     "output_type": "execute_result"
    }
   ],
   "source": [
    "no_null.count()"
   ]
  },
  {
   "cell_type": "code",
   "execution_count": 9,
   "id": "bfc9c088",
   "metadata": {},
   "outputs": [],
   "source": [
    "# remove the raws which genres or production_countries is null\n",
    "no_null = no_null[(no_null['genres'] != \"[]\") & (no_null['production_countries'] != \"[]\")]"
   ]
  },
  {
   "cell_type": "code",
   "execution_count": 10,
   "id": "ca223314",
   "metadata": {},
   "outputs": [
    {
     "data": {
      "text/html": [
       "<div>\n",
       "<style scoped>\n",
       "    .dataframe tbody tr th:only-of-type {\n",
       "        vertical-align: middle;\n",
       "    }\n",
       "\n",
       "    .dataframe tbody tr th {\n",
       "        vertical-align: top;\n",
       "    }\n",
       "\n",
       "    .dataframe thead th {\n",
       "        text-align: right;\n",
       "    }\n",
       "</style>\n",
       "<table border=\"1\" class=\"dataframe\">\n",
       "  <thead>\n",
       "    <tr style=\"text-align: right;\">\n",
       "      <th></th>\n",
       "      <th>id</th>\n",
       "      <th>title</th>\n",
       "      <th>type</th>\n",
       "      <th>release_year</th>\n",
       "      <th>age_certification</th>\n",
       "      <th>runtime</th>\n",
       "      <th>genres</th>\n",
       "      <th>production_countries</th>\n",
       "      <th>seasons</th>\n",
       "      <th>imdb_id</th>\n",
       "      <th>imdb_score</th>\n",
       "      <th>imdb_votes</th>\n",
       "    </tr>\n",
       "  </thead>\n",
       "  <tbody>\n",
       "  </tbody>\n",
       "</table>\n",
       "</div>"
      ],
      "text/plain": [
       "Empty DataFrame\n",
       "Columns: [id, title, type, release_year, age_certification, runtime, genres, production_countries, seasons, imdb_id, imdb_score, imdb_votes]\n",
       "Index: []"
      ]
     },
     "execution_count": 10,
     "metadata": {},
     "output_type": "execute_result"
    }
   ],
   "source": [
    "no_null[no_null['genres'] == \"[]\"]"
   ]
  },
  {
   "cell_type": "code",
   "execution_count": 11,
   "id": "8d6949c1",
   "metadata": {
    "scrolled": true
   },
   "outputs": [
    {
     "data": {
      "text/html": [
       "<div>\n",
       "<style scoped>\n",
       "    .dataframe tbody tr th:only-of-type {\n",
       "        vertical-align: middle;\n",
       "    }\n",
       "\n",
       "    .dataframe tbody tr th {\n",
       "        vertical-align: top;\n",
       "    }\n",
       "\n",
       "    .dataframe thead th {\n",
       "        text-align: right;\n",
       "    }\n",
       "</style>\n",
       "<table border=\"1\" class=\"dataframe\">\n",
       "  <thead>\n",
       "    <tr style=\"text-align: right;\">\n",
       "      <th></th>\n",
       "      <th>id</th>\n",
       "      <th>title</th>\n",
       "      <th>type</th>\n",
       "      <th>release_year</th>\n",
       "      <th>age_certification</th>\n",
       "      <th>runtime</th>\n",
       "      <th>genres</th>\n",
       "      <th>production_countries</th>\n",
       "      <th>seasons</th>\n",
       "      <th>imdb_id</th>\n",
       "      <th>imdb_score</th>\n",
       "      <th>imdb_votes</th>\n",
       "    </tr>\n",
       "  </thead>\n",
       "  <tbody>\n",
       "  </tbody>\n",
       "</table>\n",
       "</div>"
      ],
      "text/plain": [
       "Empty DataFrame\n",
       "Columns: [id, title, type, release_year, age_certification, runtime, genres, production_countries, seasons, imdb_id, imdb_score, imdb_votes]\n",
       "Index: []"
      ]
     },
     "execution_count": 11,
     "metadata": {},
     "output_type": "execute_result"
    }
   ],
   "source": [
    "no_null[no_null['production_countries'] == \"[]\"]"
   ]
  },
  {
   "cell_type": "code",
   "execution_count": 12,
   "id": "699bc8fc",
   "metadata": {},
   "outputs": [
    {
     "data": {
      "text/plain": [
       "id                      2937\n",
       "title                   2937\n",
       "type                    2937\n",
       "release_year            2937\n",
       "age_certification       2937\n",
       "runtime                 2937\n",
       "genres                  2937\n",
       "production_countries    2937\n",
       "seasons                 1621\n",
       "imdb_id                 2937\n",
       "imdb_score              2937\n",
       "imdb_votes              2928\n",
       "dtype: int64"
      ]
     },
     "execution_count": 12,
     "metadata": {},
     "output_type": "execute_result"
    }
   ],
   "source": [
    "no_null.count()"
   ]
  },
  {
   "cell_type": "code",
   "execution_count": 13,
   "id": "345b74b9",
   "metadata": {},
   "outputs": [
    {
     "data": {
      "text/plain": [
       "2937"
      ]
     },
     "execution_count": 13,
     "metadata": {},
     "output_type": "execute_result"
    }
   ],
   "source": [
    "no_null.shape[0]"
   ]
  },
  {
   "cell_type": "code",
   "execution_count": 14,
   "id": "b8147caa",
   "metadata": {},
   "outputs": [
    {
     "data": {
      "text/plain": [
       "12"
      ]
     },
     "execution_count": 14,
     "metadata": {},
     "output_type": "execute_result"
    }
   ],
   "source": [
    "no_null.shape[1]"
   ]
  },
  {
   "cell_type": "code",
   "execution_count": 15,
   "id": "09dff927",
   "metadata": {},
   "outputs": [
    {
     "data": {
      "text/plain": [
       "release_year    2937\n",
       "runtime         2937\n",
       "seasons         1621\n",
       "imdb_score      2937\n",
       "imdb_votes      2928\n",
       "dtype: int64"
      ]
     },
     "execution_count": 15,
     "metadata": {},
     "output_type": "execute_result"
    }
   ],
   "source": [
    "no_null.count(numeric_only = 'True')"
   ]
  },
  {
   "cell_type": "markdown",
   "id": "1c7c26f4",
   "metadata": {},
   "source": [
    "## Characteristics of the dataset "
   ]
  },
  {
   "cell_type": "markdown",
   "id": "a8012ae3",
   "metadata": {},
   "source": [
    "The dataset is about the movies and shows on Netflix and describes its metadata, including the issued year, age rating, genres, countries, IMDB score, and so on.   \n",
    "There are 5806 rows in the original data and 2937 rows after I filter the null value of the title, age_certification, imdb_score, genres, and production_countries columns. There are 12 columns in the dataset, and 5 of the 12 columns are numeric data. In genres and production_countries columns, it uses the list-like string to represent the multiple values. "
   ]
  },
  {
   "cell_type": "markdown",
   "id": "96ff0c39",
   "metadata": {},
   "source": [
    "## Simple plot"
   ]
  },
  {
   "cell_type": "code",
   "execution_count": 16,
   "id": "8b2d7b62",
   "metadata": {},
   "outputs": [],
   "source": [
    "import bqplot\n",
    "import ipywidgets\n",
    "import matplotlib.pyplot as plt"
   ]
  },
  {
   "cell_type": "code",
   "execution_count": 17,
   "id": "2ba78da1",
   "metadata": {},
   "outputs": [],
   "source": [
    "count = no_null.groupby(\"release_year\")['id'].count()"
   ]
  },
  {
   "cell_type": "code",
   "execution_count": 18,
   "id": "62829950",
   "metadata": {},
   "outputs": [
    {
     "data": {
      "text/plain": [
       "Int64Index([1964, 1966, 1967, 1969, 1971, 1972, 1973, 1975, 1976, 1977, 1979,\n",
       "            1980, 1981, 1982, 1983, 1984, 1986, 1987, 1988, 1989, 1990, 1991,\n",
       "            1992, 1993, 1994, 1995, 1996, 1997, 1998, 1999, 2000, 2001, 2002,\n",
       "            2003, 2004, 2005, 2006, 2007, 2008, 2009, 2010, 2011, 2012, 2013,\n",
       "            2014, 2015, 2016, 2017, 2018, 2019, 2020, 2021, 2022],\n",
       "           dtype='int64', name='release_year')"
      ]
     },
     "execution_count": 18,
     "metadata": {},
     "output_type": "execute_result"
    }
   ],
   "source": [
    "count.index"
   ]
  },
  {
   "cell_type": "code",
   "execution_count": 19,
   "id": "d138881a",
   "metadata": {
    "scrolled": true
   },
   "outputs": [
    {
     "data": {
      "image/png": "[encoded data removed]",
      "text/plain": [
       "<Figure size 640x480 with 1 Axes>"
      ]
     },
     "metadata": {},
     "output_type": "display_data"
    }
   ],
   "source": [
    "year = list(count.index)\n",
    "number = list(count)\n",
    "x = np.arange(len(year))\n",
    "plt.bar(x, number)\n",
    "plt.xticks(x, year)\n",
    "plt.xlabel('Year')\n",
    "plt.xticks(rotation='vertical')\n",
    "plt.ylabel('Amount')\n",
    "plt.title('Shows/Movies amount in each year')\n",
    "plt.show()"
   ]
  },
  {
   "cell_type": "markdown",
   "id": "4874d26c",
   "metadata": {
    "scrolled": true
   },
   "source": [
    "I am interested in what kind of movie/show Netflix can give us. This plot shows the amounts of shows and movies each year in Netflix. We can see that Netflix provides more shows and movies after 2015, so people who like to see old movies may not suitable for Netflix."
   ]
  },
  {
   "cell_type": "code",
   "execution_count": null,
   "id": "7fdba9f0",
   "metadata": {
    "scrolled": true
   },
   "outputs": [],
   "source": []
  },
  {
   "cell_type": "code",
   "execution_count": null,
   "id": "1bcc45ad",
   "metadata": {},
   "outputs": [],
   "source": []
  }
 ],
 "metadata": {
  "kernelspec": {
   "display_name": "Python 3 (ipykernel)",
   "language": "python",
   "name": "python3"
  },
  "language_info": {
   "codemirror_mode": {
    "name": "ipython",
    "version": 3
   },
   "file_extension": ".py",
   "mimetype": "text/x-python",
   "name": "python",
   "nbconvert_exporter": "python",
   "pygments_lexer": "ipython3",
   "version": "3.7.12"
  }
 },
 "nbformat": 4,
 "nbformat_minor": 5
}
