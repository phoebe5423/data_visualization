{
 "cells": [
  {
   "cell_type": "markdown",
   "id": "53f5f874",
   "metadata": {},
   "source": [
    "# Homework 4"
   ]
  },
  {
   "cell_type": "code",
   "execution_count": 1,
   "id": "64244504",
   "metadata": {},
   "outputs": [],
   "source": [
    "import matplotlib.pyplot as plt\n",
    "import matplotlib\n",
    "import numpy as np\n",
    "import pandas as pd\n",
    "\n",
    "import ipywidgets"
   ]
  },
  {
   "cell_type": "code",
   "execution_count": 2,
   "id": "8bf5c545",
   "metadata": {
    "scrolled": true
   },
   "outputs": [
    {
     "data": {
      "text/html": [
       "<div>\n",
       "<style scoped>\n",
       "    .dataframe tbody tr th:only-of-type {\n",
       "        vertical-align: middle;\n",
       "    }\n",
       "\n",
       "    .dataframe tbody tr th {\n",
       "        vertical-align: top;\n",
       "    }\n",
       "\n",
       "    .dataframe thead th {\n",
       "        text-align: right;\n",
       "    }\n",
       "</style>\n",
       "<table border=\"1\" class=\"dataframe\">\n",
       "  <thead>\n",
       "    <tr style=\"text-align: right;\">\n",
       "      <th></th>\n",
       "      <th>observed</th>\n",
       "      <th>location_details</th>\n",
       "      <th>county</th>\n",
       "      <th>state</th>\n",
       "      <th>season</th>\n",
       "      <th>title</th>\n",
       "      <th>latitude</th>\n",
       "      <th>longitude</th>\n",
       "      <th>date</th>\n",
       "      <th>number</th>\n",
       "      <th>...</th>\n",
       "      <th>precip_intensity</th>\n",
       "      <th>precip_probability</th>\n",
       "      <th>precip_type</th>\n",
       "      <th>pressure</th>\n",
       "      <th>summary</th>\n",
       "      <th>uv_index</th>\n",
       "      <th>visibility</th>\n",
       "      <th>wind_bearing</th>\n",
       "      <th>wind_speed</th>\n",
       "      <th>location</th>\n",
       "    </tr>\n",
       "  </thead>\n",
       "  <tbody>\n",
       "    <tr>\n",
       "      <th>0</th>\n",
       "      <td>Ed L. was salmon fishing with a companion in P...</td>\n",
       "      <td>East side of Prince William Sound</td>\n",
       "      <td>Valdez-Chitina-Whittier County</td>\n",
       "      <td>Alaska</td>\n",
       "      <td>Fall</td>\n",
       "      <td>NaN</td>\n",
       "      <td>NaN</td>\n",
       "      <td>NaN</td>\n",
       "      <td>NaT</td>\n",
       "      <td>1261.0</td>\n",
       "      <td>...</td>\n",
       "      <td>NaN</td>\n",
       "      <td>NaN</td>\n",
       "      <td>NaN</td>\n",
       "      <td>NaN</td>\n",
       "      <td>NaN</td>\n",
       "      <td>NaN</td>\n",
       "      <td>NaN</td>\n",
       "      <td>NaN</td>\n",
       "      <td>NaN</td>\n",
       "      <td>NaN</td>\n",
       "    </tr>\n",
       "    <tr>\n",
       "      <th>1</th>\n",
       "      <td>heh i kinda feel a little dumb that im reporti...</td>\n",
       "      <td>the road is off us rt 80, i dont know the exit...</td>\n",
       "      <td>Warren County</td>\n",
       "      <td>New Jersey</td>\n",
       "      <td>Fall</td>\n",
       "      <td>NaN</td>\n",
       "      <td>NaN</td>\n",
       "      <td>NaN</td>\n",
       "      <td>NaT</td>\n",
       "      <td>438.0</td>\n",
       "      <td>...</td>\n",
       "      <td>NaN</td>\n",
       "      <td>NaN</td>\n",
       "      <td>NaN</td>\n",
       "      <td>NaN</td>\n",
       "      <td>NaN</td>\n",
       "      <td>NaN</td>\n",
       "      <td>NaN</td>\n",
       "      <td>NaN</td>\n",
       "      <td>NaN</td>\n",
       "      <td>NaN</td>\n",
       "    </tr>\n",
       "    <tr>\n",
       "      <th>2</th>\n",
       "      <td>I was on my way to Claremont from Lebanon on R...</td>\n",
       "      <td>Close to Claremont down 120 not far from Kings...</td>\n",
       "      <td>Sullivan County</td>\n",
       "      <td>New Hampshire</td>\n",
       "      <td>Summer</td>\n",
       "      <td>Report 55269: Dawn sighting at Stevens Brook o...</td>\n",
       "      <td>43.41549</td>\n",
       "      <td>-72.33093</td>\n",
       "      <td>2016-06-07</td>\n",
       "      <td>55269.0</td>\n",
       "      <td>...</td>\n",
       "      <td>0.001</td>\n",
       "      <td>0.7</td>\n",
       "      <td>rain</td>\n",
       "      <td>998.87</td>\n",
       "      <td>Mostly cloudy throughout the day.</td>\n",
       "      <td>6.0</td>\n",
       "      <td>9.70</td>\n",
       "      <td>262.0</td>\n",
       "      <td>0.49</td>\n",
       "      <td>POINT(-72.33093000000001 43.415490000000005)</td>\n",
       "    </tr>\n",
       "    <tr>\n",
       "      <th>3</th>\n",
       "      <td>I was northeast of Macy Nebraska along the Mis...</td>\n",
       "      <td>Latitude &amp; Longitude :  42.158230  -96.344197</td>\n",
       "      <td>Thurston County</td>\n",
       "      <td>Nebraska</td>\n",
       "      <td>Spring</td>\n",
       "      <td>Report 59757: Possible daylight sighting of a ...</td>\n",
       "      <td>42.15685</td>\n",
       "      <td>-96.34203</td>\n",
       "      <td>2018-05-25</td>\n",
       "      <td>59757.0</td>\n",
       "      <td>...</td>\n",
       "      <td>0.000</td>\n",
       "      <td>0.0</td>\n",
       "      <td>NaN</td>\n",
       "      <td>1008.07</td>\n",
       "      <td>Partly cloudy in the morning.</td>\n",
       "      <td>10.0</td>\n",
       "      <td>8.25</td>\n",
       "      <td>193.0</td>\n",
       "      <td>3.33</td>\n",
       "      <td>POINT(-96.34203000000001 42.15685)</td>\n",
       "    </tr>\n",
       "    <tr>\n",
       "      <th>4</th>\n",
       "      <td>While this incident occurred a long time ago, ...</td>\n",
       "      <td>Ward County, Just outside of a the Minuteman T...</td>\n",
       "      <td>Ward County</td>\n",
       "      <td>North Dakota</td>\n",
       "      <td>Spring</td>\n",
       "      <td>Report 751: Hunter describes described being s...</td>\n",
       "      <td>48.25422</td>\n",
       "      <td>-101.31660</td>\n",
       "      <td>2000-04-21</td>\n",
       "      <td>751.0</td>\n",
       "      <td>...</td>\n",
       "      <td>NaN</td>\n",
       "      <td>NaN</td>\n",
       "      <td>rain</td>\n",
       "      <td>1011.47</td>\n",
       "      <td>Partly cloudy until evening.</td>\n",
       "      <td>6.0</td>\n",
       "      <td>10.00</td>\n",
       "      <td>237.0</td>\n",
       "      <td>11.14</td>\n",
       "      <td>POINT(-101.3166 48.254220000000004)</td>\n",
       "    </tr>\n",
       "  </tbody>\n",
       "</table>\n",
       "<p>5 rows × 29 columns</p>\n",
       "</div>"
      ],
      "text/plain": [
       "                                            observed  \\\n",
       "0  Ed L. was salmon fishing with a companion in P...   \n",
       "1  heh i kinda feel a little dumb that im reporti...   \n",
       "2  I was on my way to Claremont from Lebanon on R...   \n",
       "3  I was northeast of Macy Nebraska along the Mis...   \n",
       "4  While this incident occurred a long time ago, ...   \n",
       "\n",
       "                                    location_details  \\\n",
       "0                  East side of Prince William Sound   \n",
       "1  the road is off us rt 80, i dont know the exit...   \n",
       "2  Close to Claremont down 120 not far from Kings...   \n",
       "3      Latitude & Longitude :  42.158230  -96.344197   \n",
       "4  Ward County, Just outside of a the Minuteman T...   \n",
       "\n",
       "                           county          state  season  \\\n",
       "0  Valdez-Chitina-Whittier County         Alaska    Fall   \n",
       "1                   Warren County     New Jersey    Fall   \n",
       "2                 Sullivan County  New Hampshire  Summer   \n",
       "3                 Thurston County       Nebraska  Spring   \n",
       "4                     Ward County   North Dakota  Spring   \n",
       "\n",
       "                                               title  latitude  longitude  \\\n",
       "0                                                NaN       NaN        NaN   \n",
       "1                                                NaN       NaN        NaN   \n",
       "2  Report 55269: Dawn sighting at Stevens Brook o...  43.41549  -72.33093   \n",
       "3  Report 59757: Possible daylight sighting of a ...  42.15685  -96.34203   \n",
       "4  Report 751: Hunter describes described being s...  48.25422 -101.31660   \n",
       "\n",
       "        date   number  ... precip_intensity precip_probability  precip_type  \\\n",
       "0        NaT   1261.0  ...              NaN                NaN          NaN   \n",
       "1        NaT    438.0  ...              NaN                NaN          NaN   \n",
       "2 2016-06-07  55269.0  ...            0.001                0.7         rain   \n",
       "3 2018-05-25  59757.0  ...            0.000                0.0          NaN   \n",
       "4 2000-04-21    751.0  ...              NaN                NaN         rain   \n",
       "\n",
       "   pressure                            summary  uv_index  visibility  \\\n",
       "0       NaN                                NaN       NaN         NaN   \n",
       "1       NaN                                NaN       NaN         NaN   \n",
       "2    998.87  Mostly cloudy throughout the day.       6.0        9.70   \n",
       "3   1008.07      Partly cloudy in the morning.      10.0        8.25   \n",
       "4   1011.47       Partly cloudy until evening.       6.0       10.00   \n",
       "\n",
       "   wind_bearing  wind_speed                                      location  \n",
       "0           NaN         NaN                                           NaN  \n",
       "1           NaN         NaN                                           NaN  \n",
       "2         262.0        0.49  POINT(-72.33093000000001 43.415490000000005)  \n",
       "3         193.0        3.33            POINT(-96.34203000000001 42.15685)  \n",
       "4         237.0       11.14           POINT(-101.3166 48.254220000000004)  \n",
       "\n",
       "[5 rows x 29 columns]"
      ]
     },
     "execution_count": 2,
     "metadata": {},
     "output_type": "execute_result"
    }
   ],
   "source": [
    "bf = pd.read_csv('https://raw.githubusercontent.com/UIUC-iSchool-DataViz/is445_bcubcg_fall2022/main/data/bfro_reports_fall2022.csv', \n",
    "                parse_dates = [\"date\"])\n",
    "bf.head()"
   ]
  },
  {
   "cell_type": "code",
   "execution_count": 3,
   "id": "81be493b",
   "metadata": {},
   "outputs": [
    {
     "data": {
      "text/plain": [
       "Index(['observed', 'location_details', 'county', 'state', 'season', 'title',\n",
       "       'latitude', 'longitude', 'date', 'number', 'classification', 'geohash',\n",
       "       'temperature_high', 'temperature_mid', 'temperature_low', 'dew_point',\n",
       "       'humidity', 'cloud_cover', 'moon_phase', 'precip_intensity',\n",
       "       'precip_probability', 'precip_type', 'pressure', 'summary', 'uv_index',\n",
       "       'visibility', 'wind_bearing', 'wind_speed', 'location'],\n",
       "      dtype='object')"
      ]
     },
     "execution_count": 3,
     "metadata": {},
     "output_type": "execute_result"
    }
   ],
   "source": [
    "bf.columns"
   ]
  },
  {
   "cell_type": "markdown",
   "id": "a5c1b801",
   "metadata": {},
   "source": [
    "## Plot 1"
   ]
  },
  {
   "cell_type": "markdown",
   "id": "58a27dee",
   "metadata": {},
   "source": [
    "Not all columns are worthy of being picked because some of them are descriptions or unique values. Therefore, I would limit the user to choosing specific columns from the list. Besides, this graph doesn't support categorical columns for both axis ."
   ]
  },
  {
   "cell_type": "code",
   "execution_count": 4,
   "id": "8e8ac9fa",
   "metadata": {},
   "outputs": [],
   "source": [
    "categorical = ['state', 'season', 'classification', 'precip_type']\n",
    "numerical = ['latitude', 'longitude', 'number', 'temperature_high', 'temperature_mid', 'temperature_low',\n",
    "             'dew_point', 'humidity', 'cloud_cover', 'moon_phase', 'precip_intensity', 'precip_probability', \n",
    "             'pressure', 'uv_index', 'visibility', 'wind_bearing', 'wind_speed']"
   ]
  },
  {
   "cell_type": "code",
   "execution_count": 5,
   "id": "feb09412",
   "metadata": {},
   "outputs": [
    {
     "data": {
      "application/vnd.jupyter.widget-view+json": {
       "model_id": "5ae9dcd624b540d6bc1cef5fd09c4de7",
       "version_major": 2,
       "version_minor": 0
      },
      "text/plain": [
       "interactive(children=(Dropdown(description='xfield', options=('state', 'season', 'classification', 'precip_typ…"
      ]
     },
     "metadata": {},
     "output_type": "display_data"
    }
   ],
   "source": [
    "# user can only choose the item from above two lists\n",
    "@ipywidgets.interact(xfield=categorical+numerical, yfield = categorical+numerical, color = numerical, marker = [\".\", \"o\", \"^\"])\n",
    "def make_plot(xfield, yfield, color, marker):\n",
    "    if (xfield in categorical and yfield in numerical) or (xfield in numerical and yfield in categorical):\n",
    "        ax = bf.plot(x=xfield, y=yfield, figsize=(20,20),kind='scatter', marker = marker, c=bf[color])\n",
    "        plt.setp(ax.get_xticklabels(), fontsize=10, rotation='vertical')        \n",
    "    elif xfield in numerical and yfield in numerical:\n",
    "        plt.scatter(bf[xfield],bf[yfield],c=bf[color],cmap='rainbow', marker = marker)\n",
    "    plt.show()"
   ]
  },
  {
   "cell_type": "markdown",
   "id": "daf9bdd4",
   "metadata": {},
   "source": [
    "Users can choose the x and y from the lists and the color from numerical columns. The difficulty is that not all graphs that fit on both numerical axis can fit in one of x or y is numerical, and the other axis is categorical. Therefore, we need to choose the graph that both situations can apply to."
   ]
  },
  {
   "cell_type": "markdown",
   "id": "9d692b0f",
   "metadata": {},
   "source": [
    "## Plot 2"
   ]
  },
  {
   "cell_type": "code",
   "execution_count": 6,
   "id": "5e5f3d47",
   "metadata": {},
   "outputs": [
    {
     "data": {
      "application/vnd.jupyter.widget-view+json": {
       "model_id": "cc71a52157e04159b329be769179dadb",
       "version_major": 2,
       "version_minor": 0
      },
      "text/plain": [
       "interactive(children=(Dropdown(description='column', options=('state', 'season', 'classification', 'precip_typ…"
      ]
     },
     "metadata": {},
     "output_type": "display_data"
    }
   ],
   "source": [
    "@ipywidgets.interact(column=categorical+numerical, bin = [5,10,15,20])\n",
    "def make_plot2(column, bin):\n",
    "    if column in numerical:\n",
    "        bf.hist(column=column, bins=bin)\n",
    "        \n",
    "    elif column in categorical:\n",
    "        data = bf[column].value_counts()\n",
    "        items = list(data.index)\n",
    "        x = np.arange(len(items))\n",
    "        plt.bar(x, data)\n",
    "        plt.xticks(x, items)\n",
    "        plt.xlabel(column)\n",
    "        plt.ylabel('Frequency')\n",
    "        plt.xticks(rotation='vertical')\n",
    "\n",
    "    plt.show()\n",
    "        "
   ]
  },
  {
   "cell_type": "markdown",
   "id": "1727ba45",
   "metadata": {},
   "source": [
    "Numerical data should be presented as the Histogram,  and categorical data should be presented in the bar chart. A histogram can't show categorical data because it will have errors. So I use the if else condition to show a different kind of data."
   ]
  }
 ],
 "metadata": {
  "kernelspec": {
   "display_name": "Python 3 (ipykernel)",
   "language": "python",
   "name": "python3"
  },
  "language_info": {
   "codemirror_mode": {
    "name": "ipython",
    "version": 3
   },
   "file_extension": ".py",
   "mimetype": "text/x-python",
   "name": "python",
   "nbconvert_exporter": "python",
   "pygments_lexer": "ipython3",
   "version": "3.7.12"
  }
 },
 "nbformat": 4,
 "nbformat_minor": 5
}
