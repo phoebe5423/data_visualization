{
 "cells": [
  {
   "cell_type": "markdown",
   "id": "respective-store",
   "metadata": {},
   "source": [
    "# Homework 6"
   ]
  },
  {
   "cell_type": "markdown",
   "id": "2a597611",
   "metadata": {},
   "source": [
    "**Group Member:**  \n",
    "Phoebe Ling (ycling2)  \n",
    "Shaojun Zheng (shaojun3)"
   ]
  },
  {
   "cell_type": "code",
   "execution_count": 1,
   "id": "b43ea709",
   "metadata": {},
   "outputs": [],
   "source": [
    "# import usual things\n",
    "import pandas as pd\n",
    "import bqplot\n",
    "import numpy as np\n",
    "import ipywidgets\n",
    "import matplotlib.pyplot as plt"
   ]
  },
  {
   "cell_type": "code",
   "execution_count": 2,
   "id": "5577633c",
   "metadata": {},
   "outputs": [],
   "source": [
    "data_url = 'https://raw.githubusercontent.com/UIUC-iSchool-DataViz/is445_bcubcg_fall2022/main/data/licenses_fall2022.csv'"
   ]
  },
  {
   "cell_type": "code",
   "execution_count": 3,
   "id": "3f9e6667",
   "metadata": {},
   "outputs": [
    {
     "data": {
      "text/plain": [
       "Index(['_id', 'License Type', 'Description', 'License Number',\n",
       "       'License Status', 'Business', 'Title', 'First Name', 'Middle',\n",
       "       'Last Name', 'Prefix', 'Suffix', 'Business Name', 'BusinessDBA',\n",
       "       'Original Issue Date', 'Effective Date', 'Expiration Date', 'City',\n",
       "       'State', 'Zip', 'County', 'Specialty/Qualifier',\n",
       "       'Controlled Substance Schedule',\n",
       "       'Delegated Controlled Substance Schedule', 'Ever Disciplined',\n",
       "       'LastModifiedDate', 'Case Number', 'Action', 'Discipline Start Date',\n",
       "       'Discipline End Date', 'Discipline Reason'],\n",
       "      dtype='object')"
      ]
     },
     "execution_count": 3,
     "metadata": {},
     "output_type": "execute_result"
    }
   ],
   "source": [
    "licenses = pd.read_csv(data_url, parse_dates = ['Original Issue Date', 'Effective Date', 'Expiration Date', 'LastModifiedDate', 'Discipline Start Date', 'Discipline End Date'])\n",
    "licenses.columns"
   ]
  },
  {
   "cell_type": "code",
   "execution_count": 4,
   "id": "98902cc2",
   "metadata": {
    "scrolled": true
   },
   "outputs": [],
   "source": [
    "licenses['Expiration Date'] = pd.to_datetime(licenses['Expiration Date'],errors='coerce',format='%m/%d/%Y')"
   ]
  },
  {
   "cell_type": "code",
   "execution_count": 5,
   "id": "6171a342",
   "metadata": {},
   "outputs": [],
   "source": [
    "licenses['Expiration-Effective'] = licenses['Expiration Date']-licenses['Effective Date']"
   ]
  },
  {
   "cell_type": "code",
   "execution_count": 6,
   "id": "0302a2f7",
   "metadata": {},
   "outputs": [],
   "source": [
    "licenses['day']=licenses['Expiration-Effective'].map(lambda x: x/np.timedelta64(1,'D'))"
   ]
  },
  {
   "cell_type": "markdown",
   "id": "af3c271d",
   "metadata": {},
   "source": [
    "**use the year of Original Issue Date as year**"
   ]
  },
  {
   "cell_type": "code",
   "execution_count": 7,
   "id": "5b4d3413",
   "metadata": {},
   "outputs": [],
   "source": [
    "licenses['Original Issue Date'] = pd.to_datetime(licenses['Original Issue Date'],errors='coerce',format='%m/%d/%Y')\n",
    "licenses['Original_Issue_Year'] = licenses['Original Issue Date'].dt.year"
   ]
  },
  {
   "cell_type": "markdown",
   "id": "c0c89209",
   "metadata": {},
   "source": [
    "**get pivot table from licenses dataset**"
   ]
  },
  {
   "cell_type": "code",
   "execution_count": 8,
   "id": "a40716ee",
   "metadata": {},
   "outputs": [],
   "source": [
    "def generate_pivot_table_from_type_status(licenses, takeLog = True):\n",
    "    pitable = pd.pivot_table(licenses, values='day', index=['License Status'], columns=['License Type'], \n",
    "                      aggfunc = np.mean, fill_value=0)\n",
    "    license_status = pitable.index.values.astype('str')\n",
    "    license_type = pitable.columns.values.astype('str')\n",
    "    if takeLog:\n",
    "        pitable[pitable <= 0] = np.nan # set zeros to NaNs\n",
    "        # then take log\n",
    "        pitable = np.log10(pitable)\n",
    "    return pitable, license_status, license_type"
   ]
  },
  {
   "cell_type": "code",
   "execution_count": 9,
   "id": "54640ff1",
   "metadata": {
    "scrolled": false
   },
   "outputs": [],
   "source": [
    "pitable, license_status, license_type = generate_pivot_table_from_type_status(licenses)"
   ]
  },
  {
   "cell_type": "markdown",
   "id": "2e4c6f24",
   "metadata": {},
   "source": [
    "## histogram"
   ]
  },
  {
   "cell_type": "code",
   "execution_count": 10,
   "id": "cb42c2ab",
   "metadata": {},
   "outputs": [],
   "source": [
    "x_scl2 = bqplot.OrdinalScale()\n",
    "y_scl2 = bqplot.LinearScale()\n",
    "x_axs2 = bqplot.Axis(label='Year', scale=x_scl2)\n",
    "y_axs2 = bqplot.Axis(label='Total Duration in sec', scale=y_scl2, orientation='vertical', side='left')"
   ]
  },
  {
   "cell_type": "code",
   "execution_count": 11,
   "id": "25ed7286",
   "metadata": {},
   "outputs": [],
   "source": [
    "year_group = licenses.groupby(\"Original_Issue_Year\")[\"day\"].median()\n",
    "years = year_group.index\n",
    "values = year_group.values\n",
    "            \n",
    "hist_median = bqplot.Bars(x=years, y=values, scales={'x':x_scl2, 'y':y_scl2})\n",
    "fig_right = bqplot.Figure(marks=[hist_median], axes=[x_axs2, y_axs2])"
   ]
  },
  {
   "cell_type": "markdown",
   "id": "a5c09078",
   "metadata": {},
   "source": [
    "## heat map"
   ]
  },
  {
   "cell_type": "code",
   "execution_count": 12,
   "id": "065eb332",
   "metadata": {
    "scrolled": true
   },
   "outputs": [],
   "source": [
    "myLabel = ipywidgets.Label()\n",
    "def on_selected(change):\n",
    "    if len(change['owner'].selected) == 1: # only selecting one bin at a time\n",
    "        i,j = change['owner'].selected[0]\n",
    "        v = pitable.iloc[i,j]\n",
    "        myLabel.value = 'mean day in log10 '+str(v)\n",
    "        if str(v) == 'nan':     # if there is no data after mask, just shows the original bar plot\n",
    "            year_group = licenses.groupby(\"Original_Issue_Year\")[\"day\"].median()\n",
    "        else:\n",
    "            region_mask = ((licenses['License Type'] == license_type[j]) & (licenses['License Status'] == license_status[i]))\n",
    "            year_group = licenses[region_mask].groupby(\"Original_Issue_Year\")[\"day\"].median()\n",
    "        years = year_group.index\n",
    "        values = year_group.values        \n",
    "        hist_median.x = years\n",
    "        hist_median.y = values\n",
    "\n",
    "\n",
    "col_sc = bqplot.ColorScale(scheme=\"Blues\", min=np.nanmin(pitable), max=np.nanmax(pitable))\n",
    "\n",
    "x_sc = bqplot.OrdinalScale() # for categorical data\n",
    "y_sc = bqplot.OrdinalScale()\n",
    "\n",
    "c_ax = bqplot.ColorAxis(scale=col_sc, orientation='vertical', side='right')\n",
    "\n",
    "x_ax = bqplot.Axis(scale=x_sc, label='License Type')\n",
    "y_ax = bqplot.Axis(scale=y_sc, label='License Status', orientation='vertical')\n",
    "\n",
    "\n",
    "heat_map = bqplot.GridHeatMap(color=pitable, \n",
    "                              row = license_status,\n",
    "                              column=license_type,\n",
    "                              scales={'color':col_sc, 'row':y_sc, 'column':x_sc},\n",
    "                             interactions = {'click':'select'},\n",
    "                             selected_style={'fill':'red'})\n",
    "heat_map.observe(on_selected,'selected')\n",
    "\n",
    "fig_left = bqplot.Figure(marks=[heat_map], axes=[c_ax, y_ax, x_ax])\n",
    "\n",
    "fig_left.layout.min_width='500px'\n",
    "fig_right.layout.min_width='500px'\n",
    "figures = ipywidgets.HBox([fig_left,fig_right])\n",
    "myDashboard = ipywidgets.VBox([myLabel,figures])\n"
   ]
  },
  {
   "cell_type": "code",
   "execution_count": 13,
   "id": "a39faf0a",
   "metadata": {},
   "outputs": [
    {
     "data": {
      "application/vnd.jupyter.widget-view+json": {
       "model_id": "9eec465813d04000b9b670aa89af345d",
       "version_major": 2,
       "version_minor": 0
      },
      "text/plain": [
       "VBox(children=(Label(value=''), HBox(children=(Figure(axes=[ColorAxis(orientation='vertical', scale=ColorScale…"
      ]
     },
     "metadata": {},
     "output_type": "display_data"
    }
   ],
   "source": [
    "myDashboard"
   ]
  },
  {
   "cell_type": "markdown",
   "id": "5ec975fd",
   "metadata": {},
   "source": [
    "## Things to think about"
   ]
  },
  {
   "cell_type": "markdown",
   "id": "53956fc1",
   "metadata": {},
   "source": [
    "We tried a lot of method to fix the x and y ranges. We duplicated the heat map code and made a little change. Then, we found the x and y of original bar plot fixed but the duplicated bar plot wouldn't change when we selected the heat map. However, we couldn't find which changed element cause the x and y staitc."
   ]
  },
  {
   "cell_type": "markdown",
   "id": "c20ffd74",
   "metadata": {},
   "source": [
    "We can change the color of heat map by changing `scheme` in `col_sc = bqplot.ColorScale(scheme=\"Blues\", min=np.nanmin(pitable), max=np.nanmax(pitable))`.  \n",
    "The color of bar chart can also be change by adding attribute `colors`, for example `hist_median = bqplot.Bars(x=years, y=values, scales={'x':x_scl2, 'y':y_scl2}, colors=['red'])`"
   ]
  },
  {
   "cell_type": "markdown",
   "id": "7f8d1202",
   "metadata": {},
   "source": [
    "## write-up"
   ]
  },
  {
   "cell_type": "markdown",
   "id": "0ed503d7",
   "metadata": {},
   "source": [
    "We use `pivot_table` to draw a heat map because the x and y are categorical. We also take the log of the mean day; otherwise, it is hard to differentiate the color saturation because some numbers are too large and others are too small. Also, we used groupby to get the median day of each year."
   ]
  },
  {
   "cell_type": "markdown",
   "id": "7d217cdb",
   "metadata": {},
   "source": [
    "We use if else to deal with the NaN. When there is no data for certain type and status, we made the bar plot present the original data (no type and status were selected)."
   ]
  },
  {
   "cell_type": "markdown",
   "id": "cc807c59",
   "metadata": {},
   "source": [
    "As an aesthetic aspect, we keep both the heat map and bar plot blue. We also tried to make the categories' names not overlap but failed. We would try to solve the overlap problem if we had more time. We also want to show the number when the mouse hangs over the graph."
   ]
  },
  {
   "cell_type": "markdown",
   "id": "f3221d19",
   "metadata": {},
   "source": []
  },
  {
   "cell_type": "markdown",
   "id": "e2826c22",
   "metadata": {},
   "source": []
  },
  {
   "cell_type": "markdown",
   "id": "de570096",
   "metadata": {},
   "source": []
  },
  {
   "cell_type": "markdown",
   "id": "9cc3f603",
   "metadata": {},
   "source": [
    "## Test during coding"
   ]
  },
  {
   "cell_type": "markdown",
   "id": "7c222e98",
   "metadata": {},
   "source": [
    "The following code just the test when we tried to get the what we want to show. They are useless and errors."
   ]
  },
  {
   "cell_type": "code",
   "execution_count": null,
   "id": "530c73f8",
   "metadata": {},
   "outputs": [],
   "source": [
    "example = licenses[(licenses['License Type'] == 'DENTAL') & (licenses['License Status'] == 'ACTIVE')].loc[:,['Expiration Date','Effective Date','day','Original_Issue_Year']]\n",
    "example"
   ]
  },
  {
   "cell_type": "code",
   "execution_count": null,
   "id": "d538e178",
   "metadata": {},
   "outputs": [],
   "source": [
    "licenses[(licenses['License Type'] == 'APPRAISAL') & (licenses['License Status'] == 'EXPIRED')].loc[:,['Expiration Date','Effective Date','day']]"
   ]
  },
  {
   "cell_type": "code",
   "execution_count": null,
   "id": "599cfdd5",
   "metadata": {},
   "outputs": [],
   "source": [
    "example['exp-eff days'].mean()"
   ]
  },
  {
   "cell_type": "code",
   "execution_count": null,
   "id": "8ba280b9",
   "metadata": {},
   "outputs": [],
   "source": [
    "licenses['License Type'].unique()"
   ]
  },
  {
   "cell_type": "code",
   "execution_count": null,
   "id": "fd25a324",
   "metadata": {},
   "outputs": [],
   "source": [
    "licenses['License Status'].unique()"
   ]
  },
  {
   "cell_type": "code",
   "execution_count": null,
   "id": "5573d511",
   "metadata": {},
   "outputs": [],
   "source": [
    "year_group = licenses[region_mask].groupby(\"Original_Issue_Year\")[\"day\"].describe()\n",
    "med, med_edges = np.histogram(year_group, bins=len(year_group)+2) "
   ]
  },
  {
   "cell_type": "code",
   "execution_count": null,
   "id": "b0a9553d",
   "metadata": {},
   "outputs": [],
   "source": [
    "def plot_bar(i=0,j=0,mask=False):\n",
    "\n",
    "    x2_scl = bqplot.LinearScale()\n",
    "    y2_scl = bqplot.LinearScale()\n",
    "    x2_axs = bqplot.Axis(label='Year', scale=x2_scl)\n",
    "    y2_axs = bqplot.Axis(label='median number of days', scale=y2_scl, orientation='vertical')\n",
    "    if mask:\n",
    "        \n",
    "        year_group = licenses[region_mask].groupby(\"Original_Issue_Year\")[\"day\"].describe()\n",
    "    else:\n",
    "        year_group = licenses.groupby(\"Original_Issue_Year\")[\"day\"].describe()\n",
    "    hist_median = bqplot.Bars(x=year_group.index, y =year_group['50%'],\n",
    "                             scales={'x':x2_scl, 'y':y2_scl})\n",
    "    fig_right = bqplot.Figure(marks=[hist_median], axes=[x2_axs,y2_axs])\n",
    "    return fig_right"
   ]
  },
  {
   "cell_type": "code",
   "execution_count": null,
   "id": "9f67f3f4",
   "metadata": {
    "scrolled": true
   },
   "outputs": [],
   "source": [
    "x2_scl = bqplot.LinearScale()\n",
    "y2_scl = bqplot.LinearScale()\n",
    "x2_axs = bqplot.Axis(label='Year', scale=x2_scl)\n",
    "y2_axs = bqplot.Axis(label='median number of days', scale=y2_scl, orientation='vertical')\n",
    "\n",
    "year_group = licenses.groupby(\"Original_Issue_Year\")[\"day\"].describe()\n",
    "\n",
    "hist_median = bqplot.Bars(x=year_group.index, y =year_group['50%'],\n",
    "                         scales={'x':x2_scl, 'y':y2_scl})\n",
    "fig_right = bqplot.Figure(marks=[hist_median], axes=[x2_axs,y2_axs])\n",
    "fig_right"
   ]
  },
  {
   "cell_type": "code",
   "execution_count": null,
   "id": "b80eb318",
   "metadata": {},
   "outputs": [],
   "source": [
    "year_group = licenses.groupby(\"Original_Issue_Year\")[\"day\"].describe()\n",
    "day, day_edges = np.histogram(year_group.index, weights=year_group['50%'], bins=10)\n",
    "day_centers = (day_edges[:-1]+day_edges[1:])/2 # fancy way to get bin centers for our histogram\n",
    "\n",
    "x2_scl = bqplot.LinearScale()\n",
    "y2_scl = bqplot.LinearScale()\n",
    "x2_axs = bqplot.Axis(label='Year', scale=x2_scl)\n",
    "y2_axs = bqplot.Axis(label='median number of days', scale=y2_scl, orientation='vertical', side='left')\n",
    "\n",
    "hist_median = bqplot.Bars(x=day_centers, y=day, scales={'x':x2_scl, 'y':y2_scl})\n",
    "fig_right = bqplot.Figure(marks=[hist_median], axes=[x2_axs, y2_axs])\n",
    "fig_right"
   ]
  }
 ],
 "metadata": {
  "kernelspec": {
   "display_name": "Python 3 (ipykernel)",
   "language": "python",
   "name": "python3"
  },
  "language_info": {
   "codemirror_mode": {
    "name": "ipython",
    "version": 3
   },
   "file_extension": ".py",
   "mimetype": "text/x-python",
   "name": "python",
   "nbconvert_exporter": "python",
   "pygments_lexer": "ipython3",
   "version": "3.7.12"
  },
  "vscode": {
   "interpreter": {
    "hash": "96eab3a83b1f35063a336594250fbe3e91e8a07b654c02692180163b0c09ebeb"
   }
  }
 },
 "nbformat": 4,
 "nbformat_minor": 5
}
