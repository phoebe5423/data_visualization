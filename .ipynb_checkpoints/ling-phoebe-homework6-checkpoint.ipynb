{
 "cells": [
  {
   "cell_type": "markdown",
   "id": "respective-store",
   "metadata": {},
   "source": [
    "# Homework 6"
   ]
  },
  {
   "cell_type": "markdown",
   "id": "2a597611",
   "metadata": {},
   "source": [
    "**Group Member:**  \n",
    "Phoebe Ling (ycling2)  \n",
    "Shaojun Zheng (shaojun3)"
   ]
  },
  {
   "cell_type": "code",
   "execution_count": 1,
   "id": "b43ea709",
   "metadata": {},
   "outputs": [],
   "source": [
    "# import usual things\n",
    "import pandas as pd\n",
    "import bqplot\n",
    "import numpy as np\n",
    "import ipywidgets\n",
    "import matplotlib.pyplot as plt"
   ]
  },
  {
   "cell_type": "code",
   "execution_count": 2,
   "id": "5577633c",
   "metadata": {},
   "outputs": [],
   "source": [
    "data_url = 'https://raw.githubusercontent.com/UIUC-iSchool-DataViz/is445_bcubcg_fall2022/main/data/licenses_fall2022.csv'"
   ]
  },
  {
   "cell_type": "code",
   "execution_count": 3,
   "id": "3f9e6667",
   "metadata": {},
   "outputs": [
    {
     "data": {
      "text/plain": [
       "Index(['_id', 'License Type', 'Description', 'License Number',\n",
       "       'License Status', 'Business', 'Title', 'First Name', 'Middle',\n",
       "       'Last Name', 'Prefix', 'Suffix', 'Business Name', 'BusinessDBA',\n",
       "       'Original Issue Date', 'Effective Date', 'Expiration Date', 'City',\n",
       "       'State', 'Zip', 'County', 'Specialty/Qualifier',\n",
       "       'Controlled Substance Schedule',\n",
       "       'Delegated Controlled Substance Schedule', 'Ever Disciplined',\n",
       "       'LastModifiedDate', 'Case Number', 'Action', 'Discipline Start Date',\n",
       "       'Discipline End Date', 'Discipline Reason'],\n",
       "      dtype='object')"
      ]
     },
     "execution_count": 3,
     "metadata": {},
     "output_type": "execute_result"
    }
   ],
   "source": [
    "licenses = pd.read_csv(data_url, parse_dates = ['Original Issue Date', 'Effective Date', 'Expiration Date', 'LastModifiedDate', 'Discipline Start Date', 'Discipline End Date'])\n",
    "licenses.columns"
   ]
  },
  {
   "cell_type": "code",
   "execution_count": 4,
   "id": "98902cc2",
   "metadata": {
    "scrolled": true
   },
   "outputs": [],
   "source": [
    "licenses['Expiration Date'] = pd.to_datetime(licenses['Expiration Date'],errors='coerce',format='%m/%d/%Y')"
   ]
  },
  {
   "cell_type": "code",
   "execution_count": 5,
   "id": "6171a342",
   "metadata": {},
   "outputs": [],
   "source": [
    "licenses['Expiration-Effective'] = licenses['Expiration Date']-licenses['Effective Date']"
   ]
  },
  {
   "cell_type": "code",
   "execution_count": 6,
   "id": "0302a2f7",
   "metadata": {},
   "outputs": [],
   "source": [
    "licenses['day']=licenses['Expiration-Effective'].map(lambda x: x/np.timedelta64(1,'D'))"
   ]
  },
  {
   "cell_type": "markdown",
   "id": "af3c271d",
   "metadata": {},
   "source": [
    "**use the year of Original Issue Date as year**"
   ]
  },
  {
   "cell_type": "code",
   "execution_count": 7,
   "id": "5b4d3413",
   "metadata": {},
   "outputs": [],
   "source": [
    "licenses['Original Issue Date'] = pd.to_datetime(licenses['Original Issue Date'],errors='coerce',format='%m/%d/%Y')\n",
    "licenses['Original_Issue_Year'] = licenses['Original Issue Date'].dt.year"
   ]
  },
  {
   "cell_type": "markdown",
   "id": "c0c89209",
   "metadata": {},
   "source": [
    "**get pivot table from licenses dataset**"
   ]
  },
  {
   "cell_type": "code",
   "execution_count": 8,
   "id": "a40716ee",
   "metadata": {},
   "outputs": [],
   "source": [
    "def generate_pivot_table_from_type_status(licenses, takeLog = True):\n",
    "    pitable = pd.pivot_table(licenses, values='day', index=['License Status'], columns=['License Type'], \n",
    "                      aggfunc = np.mean, fill_value=0)\n",
    "    license_status = pitable.index.values.astype('str')\n",
    "    license_type = pitable.columns.values.astype('str')\n",
    "    if takeLog:\n",
    "        pitable[pitable <= 0] = np.nan # set zeros to NaNs\n",
    "        # then take log\n",
    "        pitable = np.log10(pitable)\n",
    "    return pitable, license_status, license_type"
   ]
  },
  {
   "cell_type": "code",
   "execution_count": 9,
   "id": "54640ff1",
   "metadata": {
    "scrolled": false
   },
   "outputs": [],
   "source": [
    "pitable, license_status, license_type = generate_pivot_table_from_type_status(licenses)"
   ]
  },
  {
   "cell_type": "markdown",
   "id": "2e4c6f24",
   "metadata": {},
   "source": [
    "## histogram"
   ]
  },
  {
   "cell_type": "code",
   "execution_count": 10,
   "id": "58285500",
   "metadata": {
    "scrolled": true
   },
   "outputs": [
    {
     "ename": "ValueError",
     "evalue": "autodetected range of [nan, nan] is not finite",
     "output_type": "error",
     "traceback": [
      "\u001b[1;31m---------------------------------------------------------------------------\u001b[0m",
      "\u001b[1;31mValueError\u001b[0m                                Traceback (most recent call last)",
      "\u001b[1;32m~\\AppData\\Local\\Temp/ipykernel_19220/1863911382.py\u001b[0m in \u001b[0;36m<module>\u001b[1;34m\u001b[0m\n\u001b[0;32m      1\u001b[0m \u001b[1;31m# without mask\u001b[0m\u001b[1;33m\u001b[0m\u001b[1;33m\u001b[0m\u001b[1;33m\u001b[0m\u001b[0m\n\u001b[0;32m      2\u001b[0m \u001b[1;33m\u001b[0m\u001b[0m\n\u001b[1;32m----> 3\u001b[1;33m \u001b[0mdur\u001b[0m\u001b[1;33m,\u001b[0m \u001b[0mdur_edges\u001b[0m \u001b[1;33m=\u001b[0m \u001b[0mnp\u001b[0m\u001b[1;33m.\u001b[0m\u001b[0mhistogram\u001b[0m\u001b[1;33m(\u001b[0m\u001b[0mlicenses\u001b[0m\u001b[1;33m[\u001b[0m\u001b[1;34m'Original_Issue_Year'\u001b[0m\u001b[1;33m]\u001b[0m\u001b[1;33m,\u001b[0m \u001b[0mweights\u001b[0m\u001b[1;33m=\u001b[0m\u001b[0mlicenses\u001b[0m\u001b[1;33m[\u001b[0m\u001b[1;34m'day'\u001b[0m\u001b[1;33m]\u001b[0m\u001b[1;33m,\u001b[0m \u001b[0mbins\u001b[0m\u001b[1;33m=\u001b[0m\u001b[1;36m10\u001b[0m\u001b[1;33m)\u001b[0m\u001b[1;33m\u001b[0m\u001b[1;33m\u001b[0m\u001b[0m\n\u001b[0m\u001b[0;32m      4\u001b[0m \u001b[0mdur_centers\u001b[0m \u001b[1;33m=\u001b[0m \u001b[1;33m(\u001b[0m\u001b[0mdur_edges\u001b[0m\u001b[1;33m[\u001b[0m\u001b[1;33m:\u001b[0m\u001b[1;33m-\u001b[0m\u001b[1;36m1\u001b[0m\u001b[1;33m]\u001b[0m\u001b[1;33m+\u001b[0m\u001b[0mdur_edges\u001b[0m\u001b[1;33m[\u001b[0m\u001b[1;36m1\u001b[0m\u001b[1;33m:\u001b[0m\u001b[1;33m]\u001b[0m\u001b[1;33m)\u001b[0m\u001b[1;33m/\u001b[0m\u001b[1;36m2\u001b[0m \u001b[1;31m# fancy way to get bin centers for our histogram\u001b[0m\u001b[1;33m\u001b[0m\u001b[1;33m\u001b[0m\u001b[0m\n\u001b[0;32m      5\u001b[0m \u001b[0mx_scl2\u001b[0m \u001b[1;33m=\u001b[0m \u001b[0mbqplot\u001b[0m\u001b[1;33m.\u001b[0m\u001b[0mLinearScale\u001b[0m\u001b[1;33m(\u001b[0m\u001b[1;33m)\u001b[0m\u001b[1;33m\u001b[0m\u001b[1;33m\u001b[0m\u001b[0m\n",
      "\u001b[1;32m<__array_function__ internals>\u001b[0m in \u001b[0;36mhistogram\u001b[1;34m(*args, **kwargs)\u001b[0m\n",
      "\u001b[1;32m~\\anaconda3\\envs\\DataViz\\lib\\site-packages\\numpy\\lib\\histograms.py\u001b[0m in \u001b[0;36mhistogram\u001b[1;34m(a, bins, range, normed, weights, density)\u001b[0m\n\u001b[0;32m    791\u001b[0m     \u001b[0ma\u001b[0m\u001b[1;33m,\u001b[0m \u001b[0mweights\u001b[0m \u001b[1;33m=\u001b[0m \u001b[0m_ravel_and_check_weights\u001b[0m\u001b[1;33m(\u001b[0m\u001b[0ma\u001b[0m\u001b[1;33m,\u001b[0m \u001b[0mweights\u001b[0m\u001b[1;33m)\u001b[0m\u001b[1;33m\u001b[0m\u001b[1;33m\u001b[0m\u001b[0m\n\u001b[0;32m    792\u001b[0m \u001b[1;33m\u001b[0m\u001b[0m\n\u001b[1;32m--> 793\u001b[1;33m     \u001b[0mbin_edges\u001b[0m\u001b[1;33m,\u001b[0m \u001b[0muniform_bins\u001b[0m \u001b[1;33m=\u001b[0m \u001b[0m_get_bin_edges\u001b[0m\u001b[1;33m(\u001b[0m\u001b[0ma\u001b[0m\u001b[1;33m,\u001b[0m \u001b[0mbins\u001b[0m\u001b[1;33m,\u001b[0m \u001b[0mrange\u001b[0m\u001b[1;33m,\u001b[0m \u001b[0mweights\u001b[0m\u001b[1;33m)\u001b[0m\u001b[1;33m\u001b[0m\u001b[1;33m\u001b[0m\u001b[0m\n\u001b[0m\u001b[0;32m    794\u001b[0m \u001b[1;33m\u001b[0m\u001b[0m\n\u001b[0;32m    795\u001b[0m     \u001b[1;31m# Histogram is an integer or a float array depending on the weights.\u001b[0m\u001b[1;33m\u001b[0m\u001b[1;33m\u001b[0m\u001b[1;33m\u001b[0m\u001b[0m\n",
      "\u001b[1;32m~\\anaconda3\\envs\\DataViz\\lib\\site-packages\\numpy\\lib\\histograms.py\u001b[0m in \u001b[0;36m_get_bin_edges\u001b[1;34m(a, bins, range, weights)\u001b[0m\n\u001b[0;32m    424\u001b[0m             \u001b[1;32mraise\u001b[0m \u001b[0mValueError\u001b[0m\u001b[1;33m(\u001b[0m\u001b[1;34m'`bins` must be positive, when an integer'\u001b[0m\u001b[1;33m)\u001b[0m\u001b[1;33m\u001b[0m\u001b[1;33m\u001b[0m\u001b[0m\n\u001b[0;32m    425\u001b[0m \u001b[1;33m\u001b[0m\u001b[0m\n\u001b[1;32m--> 426\u001b[1;33m         \u001b[0mfirst_edge\u001b[0m\u001b[1;33m,\u001b[0m \u001b[0mlast_edge\u001b[0m \u001b[1;33m=\u001b[0m \u001b[0m_get_outer_edges\u001b[0m\u001b[1;33m(\u001b[0m\u001b[0ma\u001b[0m\u001b[1;33m,\u001b[0m \u001b[0mrange\u001b[0m\u001b[1;33m)\u001b[0m\u001b[1;33m\u001b[0m\u001b[1;33m\u001b[0m\u001b[0m\n\u001b[0m\u001b[0;32m    427\u001b[0m \u001b[1;33m\u001b[0m\u001b[0m\n\u001b[0;32m    428\u001b[0m     \u001b[1;32melif\u001b[0m \u001b[0mnp\u001b[0m\u001b[1;33m.\u001b[0m\u001b[0mndim\u001b[0m\u001b[1;33m(\u001b[0m\u001b[0mbins\u001b[0m\u001b[1;33m)\u001b[0m \u001b[1;33m==\u001b[0m \u001b[1;36m1\u001b[0m\u001b[1;33m:\u001b[0m\u001b[1;33m\u001b[0m\u001b[1;33m\u001b[0m\u001b[0m\n",
      "\u001b[1;32m~\\anaconda3\\envs\\DataViz\\lib\\site-packages\\numpy\\lib\\histograms.py\u001b[0m in \u001b[0;36m_get_outer_edges\u001b[1;34m(a, range)\u001b[0m\n\u001b[0;32m    322\u001b[0m         \u001b[1;32mif\u001b[0m \u001b[1;32mnot\u001b[0m \u001b[1;33m(\u001b[0m\u001b[0mnp\u001b[0m\u001b[1;33m.\u001b[0m\u001b[0misfinite\u001b[0m\u001b[1;33m(\u001b[0m\u001b[0mfirst_edge\u001b[0m\u001b[1;33m)\u001b[0m \u001b[1;32mand\u001b[0m \u001b[0mnp\u001b[0m\u001b[1;33m.\u001b[0m\u001b[0misfinite\u001b[0m\u001b[1;33m(\u001b[0m\u001b[0mlast_edge\u001b[0m\u001b[1;33m)\u001b[0m\u001b[1;33m)\u001b[0m\u001b[1;33m:\u001b[0m\u001b[1;33m\u001b[0m\u001b[1;33m\u001b[0m\u001b[0m\n\u001b[0;32m    323\u001b[0m             raise ValueError(\n\u001b[1;32m--> 324\u001b[1;33m                 \"autodetected range of [{}, {}] is not finite\".format(first_edge, last_edge))\n\u001b[0m\u001b[0;32m    325\u001b[0m \u001b[1;33m\u001b[0m\u001b[0m\n\u001b[0;32m    326\u001b[0m     \u001b[1;31m# expand empty range to avoid divide by zero\u001b[0m\u001b[1;33m\u001b[0m\u001b[1;33m\u001b[0m\u001b[1;33m\u001b[0m\u001b[0m\n",
      "\u001b[1;31mValueError\u001b[0m: autodetected range of [nan, nan] is not finite"
     ]
    }
   ],
   "source": [
    "# without mask\n",
    "\n",
    "dur, dur_edges = np.histogram(licenses['Original_Issue_Year'], weights=licenses['day'], bins=10)\n",
    "dur_centers = (dur_edges[:-1]+dur_edges[1:])/2 # fancy way to get bin centers for our histogram\n",
    "x_scl2 = bqplot.LinearScale()\n",
    "y_scl2 = bqplot.LinearScale()\n",
    "x_axs2 = bqplot.Axis(label='Year', scale=x_scl2)\n",
    "y_axs2 = bqplot.Axis(label='Total Duration in sec', scale=y_scl2, orientation='vertical', side='left')\n",
    "hist_dur = bqplot.Bars(x=dur_centers, y=dur, scales={'x':x_scl2, 'y':y_scl2})\n",
    "fig_dur = bqplot.Figure(marks=[hist_dur], axes=[x_axs2, y_axs2])\n",
    "fig_dur"
   ]
  },
  {
   "cell_type": "code",
   "execution_count": 11,
   "id": "9d2f4127",
   "metadata": {},
   "outputs": [
    {
     "data": {
      "application/vnd.jupyter.widget-view+json": {
       "model_id": "120feae49cae472e8771f31eb3cfb09a",
       "version_major": 2,
       "version_minor": 0
      },
      "text/plain": [
       "Figure(axes=[Axis(label='Year', scale=LinearScale()), Axis(label='Total Duration in sec', orientation='vertica…"
      ]
     },
     "metadata": {},
     "output_type": "display_data"
    }
   ],
   "source": [
    "# with mask but don't know how to get median\n",
    "\n",
    "region_mask = ((licenses['License Type'] == license_type[2]) & (licenses['License Status'] == license_status[0]))\n",
    "dur, dur_edges = np.histogram(licenses['Original_Issue_Year'][region_mask], weights=licenses['day'][region_mask], bins=10)\n",
    "dur_centers = (dur_edges[:-1]+dur_edges[1:])/2 # fancy way to get bin centers for our histogram\n",
    "x_scl3 = bqplot.LinearScale()\n",
    "y_scl3 = bqplot.LinearScale()\n",
    "x_axs3 = bqplot.Axis(label='Year', scale=x_scl3)\n",
    "y_axs3 = bqplot.Axis(label='Total Duration in sec', scale=y_scl3, orientation='vertical', side='left')\n",
    "hist_dur = bqplot.Bars(x=dur_centers, y=dur, scales={'x':x_scl3, 'y':y_scl3})\n",
    "fig_dur = bqplot.Figure(marks=[hist_dur], axes=[x_axs3, y_axs3])\n",
    "fig_dur"
   ]
  },
  {
   "cell_type": "code",
   "execution_count": 12,
   "id": "68f1c44d",
   "metadata": {},
   "outputs": [
    {
     "data": {
      "text/html": [
       "<div>\n",
       "<style scoped>\n",
       "    .dataframe tbody tr th:only-of-type {\n",
       "        vertical-align: middle;\n",
       "    }\n",
       "\n",
       "    .dataframe tbody tr th {\n",
       "        vertical-align: top;\n",
       "    }\n",
       "\n",
       "    .dataframe thead th {\n",
       "        text-align: right;\n",
       "    }\n",
       "</style>\n",
       "<table border=\"1\" class=\"dataframe\">\n",
       "  <thead>\n",
       "    <tr style=\"text-align: right;\">\n",
       "      <th></th>\n",
       "      <th>_id</th>\n",
       "      <th>License Type</th>\n",
       "      <th>Description</th>\n",
       "      <th>License Number</th>\n",
       "      <th>License Status</th>\n",
       "      <th>Business</th>\n",
       "      <th>Title</th>\n",
       "      <th>First Name</th>\n",
       "      <th>Middle</th>\n",
       "      <th>Last Name</th>\n",
       "      <th>...</th>\n",
       "      <th>Ever Disciplined</th>\n",
       "      <th>LastModifiedDate</th>\n",
       "      <th>Case Number</th>\n",
       "      <th>Action</th>\n",
       "      <th>Discipline Start Date</th>\n",
       "      <th>Discipline End Date</th>\n",
       "      <th>Discipline Reason</th>\n",
       "      <th>Expiration-Effective</th>\n",
       "      <th>day</th>\n",
       "      <th>Original_Issue_Year</th>\n",
       "    </tr>\n",
       "  </thead>\n",
       "  <tbody>\n",
       "    <tr>\n",
       "      <th>132</th>\n",
       "      <td>283107</td>\n",
       "      <td>ATHLETIC TRAINER</td>\n",
       "      <td>LICENSED ATHLETIC TRAINER</td>\n",
       "      <td>096004525</td>\n",
       "      <td>ACTIVE</td>\n",
       "      <td>N</td>\n",
       "      <td>NaN</td>\n",
       "      <td>KEITH</td>\n",
       "      <td>ELIZABETH</td>\n",
       "      <td>JONES</td>\n",
       "      <td>...</td>\n",
       "      <td>N</td>\n",
       "      <td>2022-06-01</td>\n",
       "      <td>None</td>\n",
       "      <td>None</td>\n",
       "      <td>None</td>\n",
       "      <td>None</td>\n",
       "      <td>None</td>\n",
       "      <td>730 days</td>\n",
       "      <td>730.0</td>\n",
       "      <td>2017.0</td>\n",
       "    </tr>\n",
       "    <tr>\n",
       "      <th>1555</th>\n",
       "      <td>283128</td>\n",
       "      <td>ATHLETIC TRAINER</td>\n",
       "      <td>LICENSED ATHLETIC TRAINER</td>\n",
       "      <td>096004684</td>\n",
       "      <td>ACTIVE</td>\n",
       "      <td>N</td>\n",
       "      <td>NaN</td>\n",
       "      <td>VELTA</td>\n",
       "      <td>HAGBERG</td>\n",
       "      <td>RUEFFER</td>\n",
       "      <td>...</td>\n",
       "      <td>N</td>\n",
       "      <td>2022-03-23</td>\n",
       "      <td>None</td>\n",
       "      <td>None</td>\n",
       "      <td>None</td>\n",
       "      <td>None</td>\n",
       "      <td>None</td>\n",
       "      <td>649 days</td>\n",
       "      <td>649.0</td>\n",
       "      <td>2018.0</td>\n",
       "    </tr>\n",
       "    <tr>\n",
       "      <th>3716</th>\n",
       "      <td>282945</td>\n",
       "      <td>ATHLETIC TRAINER</td>\n",
       "      <td>LICENSED ATHLETIC TRAINER</td>\n",
       "      <td>096003358</td>\n",
       "      <td>ACTIVE</td>\n",
       "      <td>N</td>\n",
       "      <td>NaN</td>\n",
       "      <td>JOHN M</td>\n",
       "      <td>MICHAEL</td>\n",
       "      <td>HERN</td>\n",
       "      <td>...</td>\n",
       "      <td>N</td>\n",
       "      <td>2022-04-28</td>\n",
       "      <td>None</td>\n",
       "      <td>None</td>\n",
       "      <td>None</td>\n",
       "      <td>None</td>\n",
       "      <td>None</td>\n",
       "      <td>764 days</td>\n",
       "      <td>764.0</td>\n",
       "      <td>2012.0</td>\n",
       "    </tr>\n",
       "    <tr>\n",
       "      <th>6582</th>\n",
       "      <td>282593</td>\n",
       "      <td>ATHLETIC TRAINER</td>\n",
       "      <td>LICENSED ATHLETIC TRAINER</td>\n",
       "      <td>096000537</td>\n",
       "      <td>ACTIVE</td>\n",
       "      <td>N</td>\n",
       "      <td>NaN</td>\n",
       "      <td>K ELAINE</td>\n",
       "      <td>NaN</td>\n",
       "      <td>DANNER</td>\n",
       "      <td>...</td>\n",
       "      <td>N</td>\n",
       "      <td>2022-05-13</td>\n",
       "      <td>None</td>\n",
       "      <td>None</td>\n",
       "      <td>None</td>\n",
       "      <td>None</td>\n",
       "      <td>None</td>\n",
       "      <td>749 days</td>\n",
       "      <td>749.0</td>\n",
       "      <td>1993.0</td>\n",
       "    </tr>\n",
       "    <tr>\n",
       "      <th>7093</th>\n",
       "      <td>282781</td>\n",
       "      <td>ATHLETIC TRAINER</td>\n",
       "      <td>LICENSED ATHLETIC TRAINER</td>\n",
       "      <td>096002107</td>\n",
       "      <td>ACTIVE</td>\n",
       "      <td>N</td>\n",
       "      <td>NaN</td>\n",
       "      <td>ALEXANDER</td>\n",
       "      <td>A</td>\n",
       "      <td>BARDER</td>\n",
       "      <td>...</td>\n",
       "      <td>N</td>\n",
       "      <td>2022-04-26</td>\n",
       "      <td>None</td>\n",
       "      <td>None</td>\n",
       "      <td>None</td>\n",
       "      <td>None</td>\n",
       "      <td>None</td>\n",
       "      <td>794 days</td>\n",
       "      <td>794.0</td>\n",
       "      <td>2005.0</td>\n",
       "    </tr>\n",
       "    <tr>\n",
       "      <th>7600</th>\n",
       "      <td>282965</td>\n",
       "      <td>ATHLETIC TRAINER</td>\n",
       "      <td>LICENSED ATHLETIC TRAINER</td>\n",
       "      <td>096003467</td>\n",
       "      <td>ACTIVE</td>\n",
       "      <td>N</td>\n",
       "      <td>NaN</td>\n",
       "      <td>EVELYN</td>\n",
       "      <td>JASON</td>\n",
       "      <td>PEROT</td>\n",
       "      <td>...</td>\n",
       "      <td>N</td>\n",
       "      <td>2022-03-23</td>\n",
       "      <td>None</td>\n",
       "      <td>None</td>\n",
       "      <td>None</td>\n",
       "      <td>None</td>\n",
       "      <td>None</td>\n",
       "      <td>610 days</td>\n",
       "      <td>610.0</td>\n",
       "      <td>2012.0</td>\n",
       "    </tr>\n",
       "  </tbody>\n",
       "</table>\n",
       "<p>6 rows × 34 columns</p>\n",
       "</div>"
      ],
      "text/plain": [
       "         _id      License Type                Description License Number  \\\n",
       "132   283107  ATHLETIC TRAINER  LICENSED ATHLETIC TRAINER      096004525   \n",
       "1555  283128  ATHLETIC TRAINER  LICENSED ATHLETIC TRAINER      096004684   \n",
       "3716  282945  ATHLETIC TRAINER  LICENSED ATHLETIC TRAINER      096003358   \n",
       "6582  282593  ATHLETIC TRAINER  LICENSED ATHLETIC TRAINER      096000537   \n",
       "7093  282781  ATHLETIC TRAINER  LICENSED ATHLETIC TRAINER      096002107   \n",
       "7600  282965  ATHLETIC TRAINER  LICENSED ATHLETIC TRAINER      096003467   \n",
       "\n",
       "     License Status Business Title First Name     Middle Last Name  ...  \\\n",
       "132          ACTIVE        N   NaN      KEITH  ELIZABETH     JONES  ...   \n",
       "1555         ACTIVE        N   NaN      VELTA    HAGBERG   RUEFFER  ...   \n",
       "3716         ACTIVE        N   NaN     JOHN M    MICHAEL      HERN  ...   \n",
       "6582         ACTIVE        N   NaN   K ELAINE        NaN    DANNER  ...   \n",
       "7093         ACTIVE        N   NaN  ALEXANDER          A    BARDER  ...   \n",
       "7600         ACTIVE        N   NaN     EVELYN      JASON     PEROT  ...   \n",
       "\n",
       "     Ever Disciplined LastModifiedDate Case Number Action  \\\n",
       "132                 N       2022-06-01        None   None   \n",
       "1555                N       2022-03-23        None   None   \n",
       "3716                N       2022-04-28        None   None   \n",
       "6582                N       2022-05-13        None   None   \n",
       "7093                N       2022-04-26        None   None   \n",
       "7600                N       2022-03-23        None   None   \n",
       "\n",
       "     Discipline Start Date Discipline End Date Discipline Reason  \\\n",
       "132                   None                None              None   \n",
       "1555                  None                None              None   \n",
       "3716                  None                None              None   \n",
       "6582                  None                None              None   \n",
       "7093                  None                None              None   \n",
       "7600                  None                None              None   \n",
       "\n",
       "     Expiration-Effective    day Original_Issue_Year  \n",
       "132              730 days  730.0              2017.0  \n",
       "1555             649 days  649.0              2018.0  \n",
       "3716             764 days  764.0              2012.0  \n",
       "6582             749 days  749.0              1993.0  \n",
       "7093             794 days  794.0              2005.0  \n",
       "7600             610 days  610.0              2012.0  \n",
       "\n",
       "[6 rows x 34 columns]"
      ]
     },
     "execution_count": 12,
     "metadata": {},
     "output_type": "execute_result"
    }
   ],
   "source": [
    "licenses[region_mask]"
   ]
  },
  {
   "cell_type": "code",
   "execution_count": 13,
   "id": "d2a1be6f",
   "metadata": {},
   "outputs": [
    {
     "data": {
      "application/vnd.jupyter.widget-view+json": {
       "model_id": "9e09e81c4397489d81c0579bbf2dfc2d",
       "version_major": 2,
       "version_minor": 0
      },
      "text/plain": [
       "Figure(axes=[Axis(label='Year', scale=LinearScale()), Axis(label='median number of days', orientation='vertica…"
      ]
     },
     "metadata": {},
     "output_type": "display_data"
    }
   ],
   "source": [
    "# try to use groupby to get median day\n",
    "\n",
    "region_mask = ((licenses['License Type'] == license_type[2]) & (licenses['License Status'] == license_status[0]))\n",
    "\n",
    "year_group = licenses[region_mask].groupby(\"Original_Issue_Year\")[\"day\"].describe()\n",
    "day, day_edges = np.histogram(year_group.index, weights=year_group['50%'], bins=10)\n",
    "day_centers = (day_edges[:-1]+day_edges[1:])/2 # fancy way to get bin centers for our histogram\n",
    "\n",
    "x2_scl = bqplot.LinearScale()\n",
    "y2_scl = bqplot.LinearScale()\n",
    "x2_axs = bqplot.Axis(label='Year', scale=x2_scl)\n",
    "y2_axs = bqplot.Axis(label='median number of days', scale=y2_scl, orientation='vertical', side='left')\n",
    "\n",
    "hist_median = bqplot.Bars(x=day_centers, y=day, scales={'x':x2_scl, 'y':y2_scl})\n",
    "fig_right = bqplot.Figure(marks=[hist_median], axes=[x2_axs, y2_axs])\n",
    "fig_right\n"
   ]
  },
  {
   "cell_type": "code",
   "execution_count": 27,
   "id": "b4197859",
   "metadata": {},
   "outputs": [
    {
     "data": {
      "text/plain": [
       "array([749., 794., 687., 730., 649.])"
      ]
     },
     "execution_count": 27,
     "metadata": {},
     "output_type": "execute_result"
    }
   ],
   "source": [
    "region_mask = ((licenses['License Type'] == license_type[2]) & (licenses['License Status'] == license_status[0]))\n",
    "year_group = licenses[region_mask].groupby(\"Original_Issue_Year\")[\"day\"].median()\n",
    "year_group.values"
   ]
  },
  {
   "cell_type": "markdown",
   "id": "a5c09078",
   "metadata": {},
   "source": [
    "## heat map"
   ]
  },
  {
   "cell_type": "code",
   "execution_count": 24,
   "id": "065eb332",
   "metadata": {
    "scrolled": true
   },
   "outputs": [
    {
     "data": {
      "application/vnd.jupyter.widget-view+json": {
       "model_id": "29b7ad5ef03c4a3e850a26abdb7439d2",
       "version_major": 2,
       "version_minor": 0
      },
      "text/plain": [
       "VBox(children=(Label(value=''), HBox(children=(Figure(axes=[ColorAxis(orientation='vertical', scale=ColorScale…"
      ]
     },
     "metadata": {},
     "output_type": "display_data"
    }
   ],
   "source": [
    "myLabel = ipywidgets.Label()\n",
    "def on_selected(change):\n",
    "    if len(change['owner'].selected) == 1: # only selecting one bin at a time\n",
    "        i,j = change['owner'].selected[0]\n",
    "        v = pitable.iloc[i,j]\n",
    "        myLabel.value = 'mean day in log10 '+str(v)\n",
    "        if str(v) == 'nan':     # if there is no data after mask, just shows the original bar plot\n",
    "            year_group = licenses.groupby(\"Original_Issue_Year\")[\"day\"].median()\n",
    "        else:\n",
    "            region_mask = ((licenses['License Type'] == license_type[j]) & (licenses['License Status'] == license_status[i]))\n",
    "            year_group = licenses[region_mask].groupby(\"Original_Issue_Year\")[\"day\"].median()\n",
    "        day, day_edges =np.histogram(year_group.index, weights=year_group, bins=10)  \n",
    "        day_centers = (day_edges[:-1]+day_edges[1:])/2 # fancy way to get bin centers for our histogram\n",
    "        hist_median.x = day_centers\n",
    "        hist_median.y = day\n",
    "\n",
    "\n",
    "col_sc = bqplot.ColorScale(scheme=\"Blues\", min=np.nanmin(pitable), max=np.nanmax(pitable))\n",
    "\n",
    "x_sc = bqplot.OrdinalScale() # for categorical data\n",
    "y_sc = bqplot.OrdinalScale()\n",
    "\n",
    "c_ax = bqplot.ColorAxis(scale=col_sc, orientation='vertical', side='right')\n",
    "\n",
    "x_ax = bqplot.Axis(scale=x_sc, label='License Type')\n",
    "y_ax = bqplot.Axis(scale=y_sc, label='License Status', orientation='vertical')\n",
    "\n",
    "\n",
    "heat_map = bqplot.GridHeatMap(color=pitable, \n",
    "                              row = license_status,\n",
    "                              column=license_type,\n",
    "                              scales={'color':col_sc, 'row':y_sc, 'column':x_sc},\n",
    "                             interactions = {'click':'select'},\n",
    "                             selected_style={'fill':'red'})\n",
    "heat_map.observe(on_selected,'selected')\n",
    "\n",
    "fig_left = bqplot.Figure(marks=[heat_map], axes=[c_ax, y_ax, x_ax])\n",
    "\n",
    "fig_left.layout.min_width='500px'\n",
    "fig_right.layout.min_width='500px'\n",
    "figures = ipywidgets.HBox([fig_left,fig_right])\n",
    "myDashboard = ipywidgets.VBox([myLabel,figures])\n",
    "myDashboard"
   ]
  },
  {
   "cell_type": "markdown",
   "id": "5ec975fd",
   "metadata": {},
   "source": [
    "## Things to think about"
   ]
  },
  {
   "cell_type": "code",
   "execution_count": null,
   "id": "a56f7e5b",
   "metadata": {},
   "outputs": [],
   "source": []
  },
  {
   "cell_type": "code",
   "execution_count": 28,
   "id": "c083c337",
   "metadata": {},
   "outputs": [
    {
     "data": {
      "application/vnd.jupyter.widget-view+json": {
       "model_id": "c927621a3a3d4763960d467da1bb681d",
       "version_major": 2,
       "version_minor": 0
      },
      "text/plain": [
       "VBox(children=(Label(value=''), HBox(children=(Figure(axes=[ColorAxis(orientation='vertical', scale=ColorScale…"
      ]
     },
     "metadata": {},
     "output_type": "display_data"
    }
   ],
   "source": [
    "myLabel = ipywidgets.Label()\n",
    "def on_selected(change):\n",
    "    if len(change['owner'].selected) == 1: # only selecting one bin at a time\n",
    "        i,j = change['owner'].selected[0]\n",
    "        v = pitable.iloc[i,j]\n",
    "        myLabel.value = 'mean day in log10 '+str(v)\n",
    "        if str(v) == 'nan':     # if there is no data after mask, just shows the original bar plot\n",
    "            year_group = licenses.groupby(\"Original_Issue_Year\")[\"day\"].median()\n",
    "        else:\n",
    "            region_mask = ((licenses['License Type'] == license_type[j]) & (licenses['License Status'] == license_status[i]))\n",
    "            year_group = licenses[region_mask].groupby(\"Original_Issue_Year\")[\"day\"].median()\n",
    "        \n",
    "        years = year_group.index\n",
    "        values = year_group.values\n",
    "        \n",
    "        \n",
    "        hist_median.x = years\n",
    "        hist_median.y = values\n",
    "\n",
    "\n",
    "col_sc = bqplot.ColorScale(scheme=\"Blues\", min=np.nanmin(pitable), max=np.nanmax(pitable))\n",
    "\n",
    "x_sc = bqplot.OrdinalScale() # for categorical data\n",
    "y_sc = bqplot.OrdinalScale()\n",
    "\n",
    "c_ax = bqplot.ColorAxis(scale=col_sc, orientation='vertical', side='right')\n",
    "\n",
    "x_ax = bqplot.Axis(scale=x_sc, label='License Type')\n",
    "y_ax = bqplot.Axis(scale=y_sc, label='License Status', orientation='vertical')\n",
    "\n",
    "\n",
    "heat_map = bqplot.GridHeatMap(color=pitable, \n",
    "                              row = license_status,\n",
    "                              column=license_type,\n",
    "                              scales={'color':col_sc, 'row':y_sc, 'column':x_sc},\n",
    "                             interactions = {'click':'select'},\n",
    "                             selected_style={'fill':'red'})\n",
    "heat_map.observe(on_selected,'selected')\n",
    "\n",
    "fig_left = bqplot.Figure(marks=[heat_map], axes=[c_ax, y_ax, x_ax])\n",
    "\n",
    "fig_left.layout.min_width='500px'\n",
    "fig_right.layout.min_width='500px'\n",
    "figures = ipywidgets.HBox([fig_left,fig_right])\n",
    "myDashboard = ipywidgets.VBox([myLabel,figures])\n",
    "myDashboard"
   ]
  },
  {
   "cell_type": "code",
   "execution_count": null,
   "id": "8c88295e",
   "metadata": {},
   "outputs": [],
   "source": []
  },
  {
   "cell_type": "code",
   "execution_count": null,
   "id": "694cd0fd",
   "metadata": {},
   "outputs": [],
   "source": []
  },
  {
   "cell_type": "code",
   "execution_count": null,
   "id": "c49067ce",
   "metadata": {},
   "outputs": [],
   "source": []
  },
  {
   "cell_type": "code",
   "execution_count": null,
   "id": "3b4f55a5",
   "metadata": {},
   "outputs": [],
   "source": []
  },
  {
   "cell_type": "code",
   "execution_count": null,
   "id": "ad7b2913",
   "metadata": {},
   "outputs": [],
   "source": []
  },
  {
   "cell_type": "code",
   "execution_count": null,
   "id": "a1630f90",
   "metadata": {},
   "outputs": [],
   "source": []
  },
  {
   "cell_type": "code",
   "execution_count": null,
   "id": "08144b1e",
   "metadata": {},
   "outputs": [],
   "source": []
  },
  {
   "cell_type": "code",
   "execution_count": null,
   "id": "28007ac4",
   "metadata": {},
   "outputs": [],
   "source": []
  },
  {
   "cell_type": "markdown",
   "id": "9cc3f603",
   "metadata": {},
   "source": [
    "## Test during coding"
   ]
  },
  {
   "cell_type": "code",
   "execution_count": null,
   "id": "530c73f8",
   "metadata": {},
   "outputs": [],
   "source": [
    "example = licenses[(licenses['License Type'] == 'DENTAL') & (licenses['License Status'] == 'ACTIVE')].loc[:,['Expiration Date','Effective Date','day','Original_Issue_Year']]\n",
    "example"
   ]
  },
  {
   "cell_type": "code",
   "execution_count": null,
   "id": "d538e178",
   "metadata": {},
   "outputs": [],
   "source": [
    "licenses[(licenses['License Type'] == 'APPRAISAL') & (licenses['License Status'] == 'EXPIRED')].loc[:,['Expiration Date','Effective Date','day']]"
   ]
  },
  {
   "cell_type": "code",
   "execution_count": null,
   "id": "599cfdd5",
   "metadata": {},
   "outputs": [],
   "source": [
    "example['exp-eff days'].mean()"
   ]
  },
  {
   "cell_type": "code",
   "execution_count": null,
   "id": "8ba280b9",
   "metadata": {},
   "outputs": [],
   "source": [
    "licenses['License Type'].unique()"
   ]
  },
  {
   "cell_type": "code",
   "execution_count": null,
   "id": "fd25a324",
   "metadata": {},
   "outputs": [],
   "source": [
    "licenses['License Status'].unique()"
   ]
  },
  {
   "cell_type": "code",
   "execution_count": null,
   "id": "5573d511",
   "metadata": {},
   "outputs": [],
   "source": [
    "year_group = licenses[region_mask].groupby(\"Original_Issue_Year\")[\"day\"].describe()\n",
    "med, med_edges = np.histogram(year_group, bins=len(year_group)+2) "
   ]
  },
  {
   "cell_type": "code",
   "execution_count": null,
   "id": "b0a9553d",
   "metadata": {},
   "outputs": [],
   "source": [
    "def plot_bar(i=0,j=0,mask=False):\n",
    "\n",
    "    x2_scl = bqplot.LinearScale()\n",
    "    y2_scl = bqplot.LinearScale()\n",
    "    x2_axs = bqplot.Axis(label='Year', scale=x2_scl)\n",
    "    y2_axs = bqplot.Axis(label='median number of days', scale=y2_scl, orientation='vertical')\n",
    "    if mask:\n",
    "        \n",
    "        year_group = licenses[region_mask].groupby(\"Original_Issue_Year\")[\"day\"].describe()\n",
    "    else:\n",
    "        year_group = licenses.groupby(\"Original_Issue_Year\")[\"day\"].describe()\n",
    "    hist_median = bqplot.Bars(x=year_group.index, y =year_group['50%'],\n",
    "                             scales={'x':x2_scl, 'y':y2_scl})\n",
    "    fig_right = bqplot.Figure(marks=[hist_median], axes=[x2_axs,y2_axs])\n",
    "    return fig_right"
   ]
  },
  {
   "cell_type": "code",
   "execution_count": null,
   "id": "9f67f3f4",
   "metadata": {
    "scrolled": true
   },
   "outputs": [],
   "source": [
    "x2_scl = bqplot.LinearScale()\n",
    "y2_scl = bqplot.LinearScale()\n",
    "x2_axs = bqplot.Axis(label='Year', scale=x2_scl)\n",
    "y2_axs = bqplot.Axis(label='median number of days', scale=y2_scl, orientation='vertical')\n",
    "\n",
    "year_group = licenses.groupby(\"Original_Issue_Year\")[\"day\"].describe()\n",
    "\n",
    "hist_median = bqplot.Bars(x=year_group.index, y =year_group['50%'],\n",
    "                         scales={'x':x2_scl, 'y':y2_scl})\n",
    "fig_right = bqplot.Figure(marks=[hist_median], axes=[x2_axs,y2_axs])\n",
    "fig_right"
   ]
  },
  {
   "cell_type": "code",
   "execution_count": null,
   "id": "b80eb318",
   "metadata": {},
   "outputs": [],
   "source": [
    "year_group = licenses.groupby(\"Original_Issue_Year\")[\"day\"].describe()\n",
    "day, day_edges = np.histogram(year_group.index, weights=year_group['50%'], bins=10)\n",
    "day_centers = (day_edges[:-1]+day_edges[1:])/2 # fancy way to get bin centers for our histogram\n",
    "\n",
    "x2_scl = bqplot.LinearScale()\n",
    "y2_scl = bqplot.LinearScale()\n",
    "x2_axs = bqplot.Axis(label='Year', scale=x2_scl)\n",
    "y2_axs = bqplot.Axis(label='median number of days', scale=y2_scl, orientation='vertical', side='left')\n",
    "\n",
    "hist_median = bqplot.Bars(x=day_centers, y=day, scales={'x':x2_scl, 'y':y2_scl})\n",
    "fig_right = bqplot.Figure(marks=[hist_median], axes=[x2_axs, y2_axs])\n",
    "fig_right"
   ]
  }
 ],
 "metadata": {
  "kernelspec": {
   "display_name": "Python 3 (ipykernel)",
   "language": "python",
   "name": "python3"
  },
  "language_info": {
   "codemirror_mode": {
    "name": "ipython",
    "version": 3
   },
   "file_extension": ".py",
   "mimetype": "text/x-python",
   "name": "python",
   "nbconvert_exporter": "python",
   "pygments_lexer": "ipython3",
   "version": "3.7.12"
  },
  "vscode": {
   "interpreter": {
    "hash": "96eab3a83b1f35063a336594250fbe3e91e8a07b654c02692180163b0c09ebeb"
   }
  }
 },
 "nbformat": 4,
 "nbformat_minor": 5
}
